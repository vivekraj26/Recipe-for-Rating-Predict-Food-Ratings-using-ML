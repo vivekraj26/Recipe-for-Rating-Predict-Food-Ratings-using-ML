{
 "cells": [
  {
   "cell_type": "code",
   "execution_count": 1,
   "id": "ccf09a1c",
   "metadata": {
    "_cell_guid": "b1076dfc-b9ad-4769-8c92-a6c4dae69d19",
    "_uuid": "8f2839f25d086af736a60e9eeb907d3b93b6e0e5",
    "execution": {
     "iopub.execute_input": "2024-04-29T18:30:41.096219Z",
     "iopub.status.busy": "2024-04-29T18:30:41.095560Z",
     "iopub.status.idle": "2024-04-29T18:30:42.107214Z",
     "shell.execute_reply": "2024-04-29T18:30:42.105978Z"
    },
    "papermill": {
     "duration": 1.04121,
     "end_time": "2024-04-29T18:30:42.110151",
     "exception": false,
     "start_time": "2024-04-29T18:30:41.068941",
     "status": "completed"
    },
    "tags": []
   },
   "outputs": [
    {
     "name": "stdout",
     "output_type": "stream",
     "text": [
      "/kaggle/input/recipe-for-rating-predict-food-ratings-using-ml/sample.csv\n",
      "/kaggle/input/recipe-for-rating-predict-food-ratings-using-ml/train.csv\n",
      "/kaggle/input/recipe-for-rating-predict-food-ratings-using-ml/test.csv\n"
     ]
    }
   ],
   "source": [
    "# This Python 3 environment comes with many helpful analytics libraries installed\n",
    "# It is defined by the kaggle/python Docker image: https://github.com/kaggle/docker-python\n",
    "# For example, here's several helpful packages to load\n",
    "\n",
    "import numpy as np # linear algebra\n",
    "import pandas as pd # data processing, CSV file I/O (e.g. pd.read_csv)\n",
    "\n",
    "# Input data files are available in the read-only \"../input/\" directory\n",
    "# For example, running this (by clicking run or pressing Shift+Enter) will list all files under the input directory\n",
    "\n",
    "import os\n",
    "for dirname, _, filenames in os.walk('/kaggle/input'):\n",
    "    for filename in filenames:\n",
    "        print(os.path.join(dirname, filename))\n",
    "\n",
    "# You can write up to 20GB to the current directory (/kaggle/working/) that gets preserved as output when you create a version using \"Save & Run All\" \n",
    "# You can also write temporary files to /kaggle/temp/, but they won't be saved outside of the current session"
   ]
  },
  {
   "cell_type": "code",
   "execution_count": 2,
   "id": "4fd74c2b",
   "metadata": {
    "execution": {
     "iopub.execute_input": "2024-04-29T18:30:42.164718Z",
     "iopub.status.busy": "2024-04-29T18:30:42.163903Z",
     "iopub.status.idle": "2024-04-29T18:30:44.684333Z",
     "shell.execute_reply": "2024-04-29T18:30:44.682747Z"
    },
    "papermill": {
     "duration": 2.551443,
     "end_time": "2024-04-29T18:30:44.687266",
     "exception": false,
     "start_time": "2024-04-29T18:30:42.135823",
     "status": "completed"
    },
    "tags": []
   },
   "outputs": [],
   "source": [
    "import seaborn as sns\n",
    "import matplotlib.pyplot as plt\n",
    "from sklearn.model_selection import StratifiedShuffleSplit\n",
    "import regex as re\n",
    "from sklearn.compose import ColumnTransformer\n",
    "from sklearn.pipeline import Pipeline\n",
    "\n",
    "from sklearn.preprocessing import StandardScaler\n",
    "from sklearn.feature_extraction.text import TfidfVectorizer\n",
    "from sklearn.linear_model import LogisticRegression\n",
    "from sklearn.model_selection import cross_val_score\n",
    "from sklearn.model_selection import KFold\n",
    "from sklearn.model_selection import RandomizedSearchCV\n",
    "from sklearn.neighbors import KNeighborsClassifier\n",
    "from sklearn.metrics import accuracy_score\n",
    "from sklearn.svm import SVC\n",
    "from sklearn.tree import DecisionTreeClassifier\n",
    "from sklearn.ensemble import RandomForestClassifier\n",
    "from xgboost import XGBClassifier\n",
    "from sklearn.metrics import classification_report,confusion_matrix\n",
    "from sklearn.metrics import precision_score, recall_score, f1_score\n",
    "from sklearn.metrics import precision_recall_curve,ConfusionMatrixDisplay\n",
    "from sklearn.decomposition import TruncatedSVD"
   ]
  },
  {
   "cell_type": "markdown",
   "id": "a76f54a4",
   "metadata": {
    "papermill": {
     "duration": 0.023955,
     "end_time": "2024-04-29T18:30:44.736847",
     "exception": false,
     "start_time": "2024-04-29T18:30:44.712892",
     "status": "completed"
    },
    "tags": []
   },
   "source": [
    "# EDA"
   ]
  },
  {
   "cell_type": "code",
   "execution_count": 3,
   "id": "21f8c676",
   "metadata": {
    "execution": {
     "iopub.execute_input": "2024-04-29T18:30:44.788022Z",
     "iopub.status.busy": "2024-04-29T18:30:44.787146Z",
     "iopub.status.idle": "2024-04-29T18:30:45.039790Z",
     "shell.execute_reply": "2024-04-29T18:30:45.038517Z"
    },
    "papermill": {
     "duration": 0.282268,
     "end_time": "2024-04-29T18:30:45.043358",
     "exception": false,
     "start_time": "2024-04-29T18:30:44.761090",
     "status": "completed"
    },
    "tags": []
   },
   "outputs": [
    {
     "data": {
      "text/html": [
       "<div>\n",
       "<style scoped>\n",
       "    .dataframe tbody tr th:only-of-type {\n",
       "        vertical-align: middle;\n",
       "    }\n",
       "\n",
       "    .dataframe tbody tr th {\n",
       "        vertical-align: top;\n",
       "    }\n",
       "\n",
       "    .dataframe thead th {\n",
       "        text-align: right;\n",
       "    }\n",
       "</style>\n",
       "<table border=\"1\" class=\"dataframe\">\n",
       "  <thead>\n",
       "    <tr style=\"text-align: right;\">\n",
       "      <th></th>\n",
       "      <th>ID</th>\n",
       "      <th>RecipeNumber</th>\n",
       "      <th>RecipeCode</th>\n",
       "      <th>RecipeName</th>\n",
       "      <th>CommentID</th>\n",
       "      <th>UserID</th>\n",
       "      <th>UserName</th>\n",
       "      <th>UserReputation</th>\n",
       "      <th>CreationTimestamp</th>\n",
       "      <th>ReplyCount</th>\n",
       "      <th>ThumbsUpCount</th>\n",
       "      <th>ThumbsDownCount</th>\n",
       "      <th>Rating</th>\n",
       "      <th>BestScore</th>\n",
       "      <th>Recipe_Review</th>\n",
       "    </tr>\n",
       "  </thead>\n",
       "  <tbody>\n",
       "    <tr>\n",
       "      <th>0</th>\n",
       "      <td>70</td>\n",
       "      <td>71</td>\n",
       "      <td>12259</td>\n",
       "      <td>Banana Bars with Cream Cheese Frosting</td>\n",
       "      <td>sp_aUSaElGf_12259_c_149978</td>\n",
       "      <td>u_1oKVaBmiEKwAFyiHrDLoWpbel0J</td>\n",
       "      <td>misscoffeepot</td>\n",
       "      <td>20</td>\n",
       "      <td>1622717078</td>\n",
       "      <td>0</td>\n",
       "      <td>0</td>\n",
       "      <td>0</td>\n",
       "      <td>5</td>\n",
       "      <td>100</td>\n",
       "      <td>great recipe! I have made them just as written...</td>\n",
       "    </tr>\n",
       "    <tr>\n",
       "      <th>1</th>\n",
       "      <td>72</td>\n",
       "      <td>88</td>\n",
       "      <td>8202</td>\n",
       "      <td>Simple Taco Soup</td>\n",
       "      <td>sp_aUSaElGf_8202_c_310332</td>\n",
       "      <td>u_1oKZeRIXYzGNhGW8OMR3O4lX1ih</td>\n",
       "      <td>MichelleMalone</td>\n",
       "      <td>1</td>\n",
       "      <td>1622717852</td>\n",
       "      <td>0</td>\n",
       "      <td>0</td>\n",
       "      <td>1</td>\n",
       "      <td>5</td>\n",
       "      <td>100</td>\n",
       "      <td>This is an easy and quick recipe that is great...</td>\n",
       "    </tr>\n",
       "    <tr>\n",
       "      <th>2</th>\n",
       "      <td>458</td>\n",
       "      <td>3</td>\n",
       "      <td>2832</td>\n",
       "      <td>Cheeseburger Soup</td>\n",
       "      <td>sp_aUSaElGf_2832_c_206522</td>\n",
       "      <td>u_1oKYHUtdaD48KJCDYq5wfpAUxWz</td>\n",
       "      <td>jeannem32</td>\n",
       "      <td>1</td>\n",
       "      <td>1622717357</td>\n",
       "      <td>0</td>\n",
       "      <td>0</td>\n",
       "      <td>0</td>\n",
       "      <td>3</td>\n",
       "      <td>100</td>\n",
       "      <td>I think I was looking for something extra spec...</td>\n",
       "    </tr>\n",
       "    <tr>\n",
       "      <th>3</th>\n",
       "      <td>7</td>\n",
       "      <td>50</td>\n",
       "      <td>100276</td>\n",
       "      <td>Grilled Huli Huli Chicken</td>\n",
       "      <td>sp_aUSaElGf_100276_c_434088</td>\n",
       "      <td>u_1oKZCQcKQZdQhDVBS7oISc216VA</td>\n",
       "      <td>ds422</td>\n",
       "      <td>1</td>\n",
       "      <td>1622648899</td>\n",
       "      <td>0</td>\n",
       "      <td>0</td>\n",
       "      <td>0</td>\n",
       "      <td>5</td>\n",
       "      <td>100</td>\n",
       "      <td>This is our favorite grilled chicken recipe.  ...</td>\n",
       "    </tr>\n",
       "    <tr>\n",
       "      <th>4</th>\n",
       "      <td>60</td>\n",
       "      <td>12</td>\n",
       "      <td>19731</td>\n",
       "      <td>Cauliflower Soup</td>\n",
       "      <td>sp_aUSaElGf_19731_c_387011</td>\n",
       "      <td>u_1oKd4sudZQPgu6YALiC7bW7mKMs</td>\n",
       "      <td>SusanHoward</td>\n",
       "      <td>1</td>\n",
       "      <td>1622718260</td>\n",
       "      <td>0</td>\n",
       "      <td>0</td>\n",
       "      <td>0</td>\n",
       "      <td>4</td>\n",
       "      <td>100</td>\n",
       "      <td>Great basic recipe. I added 2 teaspoons Tuscan...</td>\n",
       "    </tr>\n",
       "  </tbody>\n",
       "</table>\n",
       "</div>"
      ],
      "text/plain": [
       "    ID  RecipeNumber  RecipeCode                              RecipeName  \\\n",
       "0   70            71       12259  Banana Bars with Cream Cheese Frosting   \n",
       "1   72            88        8202                        Simple Taco Soup   \n",
       "2  458             3        2832                       Cheeseburger Soup   \n",
       "3    7            50      100276               Grilled Huli Huli Chicken   \n",
       "4   60            12       19731                        Cauliflower Soup   \n",
       "\n",
       "                     CommentID                         UserID        UserName  \\\n",
       "0   sp_aUSaElGf_12259_c_149978  u_1oKVaBmiEKwAFyiHrDLoWpbel0J   misscoffeepot   \n",
       "1    sp_aUSaElGf_8202_c_310332  u_1oKZeRIXYzGNhGW8OMR3O4lX1ih  MichelleMalone   \n",
       "2    sp_aUSaElGf_2832_c_206522  u_1oKYHUtdaD48KJCDYq5wfpAUxWz       jeannem32   \n",
       "3  sp_aUSaElGf_100276_c_434088  u_1oKZCQcKQZdQhDVBS7oISc216VA           ds422   \n",
       "4   sp_aUSaElGf_19731_c_387011  u_1oKd4sudZQPgu6YALiC7bW7mKMs     SusanHoward   \n",
       "\n",
       "   UserReputation  CreationTimestamp  ReplyCount  ThumbsUpCount  \\\n",
       "0              20         1622717078           0              0   \n",
       "1               1         1622717852           0              0   \n",
       "2               1         1622717357           0              0   \n",
       "3               1         1622648899           0              0   \n",
       "4               1         1622718260           0              0   \n",
       "\n",
       "   ThumbsDownCount  Rating  BestScore  \\\n",
       "0                0       5        100   \n",
       "1                1       5        100   \n",
       "2                0       3        100   \n",
       "3                0       5        100   \n",
       "4                0       4        100   \n",
       "\n",
       "                                       Recipe_Review  \n",
       "0  great recipe! I have made them just as written...  \n",
       "1  This is an easy and quick recipe that is great...  \n",
       "2  I think I was looking for something extra spec...  \n",
       "3  This is our favorite grilled chicken recipe.  ...  \n",
       "4  Great basic recipe. I added 2 teaspoons Tuscan...  "
      ]
     },
     "execution_count": 3,
     "metadata": {},
     "output_type": "execute_result"
    }
   ],
   "source": [
    "# Importing Training data as df\n",
    "df = pd.read_csv(\"/kaggle/input/recipe-for-rating-predict-food-ratings-using-ml/train.csv\")\n",
    "# checking data samples\n",
    "df.head()"
   ]
  },
  {
   "cell_type": "code",
   "execution_count": 4,
   "id": "e70efcf6",
   "metadata": {
    "execution": {
     "iopub.execute_input": "2024-04-29T18:30:45.116009Z",
     "iopub.status.busy": "2024-04-29T18:30:45.115530Z",
     "iopub.status.idle": "2024-04-29T18:30:45.126806Z",
     "shell.execute_reply": "2024-04-29T18:30:45.125472Z"
    },
    "papermill": {
     "duration": 0.053804,
     "end_time": "2024-04-29T18:30:45.131536",
     "exception": false,
     "start_time": "2024-04-29T18:30:45.077732",
     "status": "completed"
    },
    "tags": []
   },
   "outputs": [
    {
     "name": "stdout",
     "output_type": "stream",
     "text": [
      "Feature list: ['ID' 'RecipeNumber' 'RecipeCode' 'RecipeName' 'CommentID' 'UserID'\n",
      " 'UserName' 'UserReputation' 'CreationTimestamp' 'ReplyCount'\n",
      " 'ThumbsUpCount' 'ThumbsDownCount' 'BestScore' 'Recipe_Review']\n",
      "Label: ['Rating']\n"
     ]
    }
   ],
   "source": [
    "feature_list = df.columns.drop(\"Rating\").values\n",
    "label = [\"Rating\"]\n",
    "\n",
    "print (\"Feature list:\", feature_list)\n",
    "print (\"Label:\", label)"
   ]
  },
  {
   "cell_type": "code",
   "execution_count": 5,
   "id": "4caba314",
   "metadata": {
    "execution": {
     "iopub.execute_input": "2024-04-29T18:30:45.207973Z",
     "iopub.status.busy": "2024-04-29T18:30:45.206728Z",
     "iopub.status.idle": "2024-04-29T18:30:45.215049Z",
     "shell.execute_reply": "2024-04-29T18:30:45.213543Z"
    },
    "papermill": {
     "duration": 0.044309,
     "end_time": "2024-04-29T18:30:45.217793",
     "exception": false,
     "start_time": "2024-04-29T18:30:45.173484",
     "status": "completed"
    },
    "tags": []
   },
   "outputs": [
    {
     "data": {
      "text/plain": [
       "(13636, 15)"
      ]
     },
     "execution_count": 5,
     "metadata": {},
     "output_type": "execute_result"
    }
   ],
   "source": [
    "# checking the shape of the training data\n",
    "df.shape"
   ]
  },
  {
   "cell_type": "markdown",
   "id": "863d5351",
   "metadata": {
    "papermill": {
     "duration": 0.025208,
     "end_time": "2024-04-29T18:30:45.268529",
     "exception": false,
     "start_time": "2024-04-29T18:30:45.243321",
     "status": "completed"
    },
    "tags": []
   },
   "source": [
    "there are 13636 rows and 15 columns"
   ]
  },
  {
   "cell_type": "code",
   "execution_count": 6,
   "id": "1d11ee51",
   "metadata": {
    "execution": {
     "iopub.execute_input": "2024-04-29T18:30:45.326685Z",
     "iopub.status.busy": "2024-04-29T18:30:45.325661Z",
     "iopub.status.idle": "2024-04-29T18:30:45.370131Z",
     "shell.execute_reply": "2024-04-29T18:30:45.369302Z"
    },
    "papermill": {
     "duration": 0.079881,
     "end_time": "2024-04-29T18:30:45.373967",
     "exception": false,
     "start_time": "2024-04-29T18:30:45.294086",
     "status": "completed"
    },
    "tags": []
   },
   "outputs": [
    {
     "name": "stdout",
     "output_type": "stream",
     "text": [
      "<class 'pandas.core.frame.DataFrame'>\n",
      "RangeIndex: 13636 entries, 0 to 13635\n",
      "Data columns (total 15 columns):\n",
      " #   Column             Non-Null Count  Dtype \n",
      "---  ------             --------------  ----- \n",
      " 0   ID                 13636 non-null  int64 \n",
      " 1   RecipeNumber       13636 non-null  int64 \n",
      " 2   RecipeCode         13636 non-null  int64 \n",
      " 3   RecipeName         13636 non-null  object\n",
      " 4   CommentID          13636 non-null  object\n",
      " 5   UserID             13636 non-null  object\n",
      " 6   UserName           13636 non-null  object\n",
      " 7   UserReputation     13636 non-null  int64 \n",
      " 8   CreationTimestamp  13636 non-null  int64 \n",
      " 9   ReplyCount         13636 non-null  int64 \n",
      " 10  ThumbsUpCount      13636 non-null  int64 \n",
      " 11  ThumbsDownCount    13636 non-null  int64 \n",
      " 12  Rating             13636 non-null  int64 \n",
      " 13  BestScore          13636 non-null  int64 \n",
      " 14  Recipe_Review      13634 non-null  object\n",
      "dtypes: int64(10), object(5)\n",
      "memory usage: 1.6+ MB\n"
     ]
    }
   ],
   "source": [
    "# checking the information( like columns name with count of non null data points and the data types) about different columns present in the training data\n",
    "df.info()"
   ]
  },
  {
   "cell_type": "markdown",
   "id": "656d5a3f",
   "metadata": {
    "papermill": {
     "duration": 0.025628,
     "end_time": "2024-04-29T18:30:45.436375",
     "exception": false,
     "start_time": "2024-04-29T18:30:45.410747",
     "status": "completed"
    },
    "tags": []
   },
   "source": [
    "all the columns dont have any null data point except the Recipe_Review column which have two null data point present. few columns are non numeric like  RecipeName, CommentID, UserID, UserName and Recipie_Review"
   ]
  },
  {
   "cell_type": "code",
   "execution_count": 7,
   "id": "7fdfbb55",
   "metadata": {
    "execution": {
     "iopub.execute_input": "2024-04-29T18:30:45.489385Z",
     "iopub.status.busy": "2024-04-29T18:30:45.488964Z",
     "iopub.status.idle": "2024-04-29T18:30:45.507938Z",
     "shell.execute_reply": "2024-04-29T18:30:45.506726Z"
    },
    "papermill": {
     "duration": 0.048833,
     "end_time": "2024-04-29T18:30:45.510791",
     "exception": false,
     "start_time": "2024-04-29T18:30:45.461958",
     "status": "completed"
    },
    "tags": []
   },
   "outputs": [],
   "source": [
    "df.dropna(inplace = True)\n",
    "df.reset_index(drop = True, inplace = True)"
   ]
  },
  {
   "cell_type": "markdown",
   "id": "075276d9",
   "metadata": {
    "papermill": {
     "duration": 0.025314,
     "end_time": "2024-04-29T18:30:45.562069",
     "exception": false,
     "start_time": "2024-04-29T18:30:45.536755",
     "status": "completed"
    },
    "tags": []
   },
   "source": [
    "only 2 null data points are present that also in the Recipie_Review column that is categorical, so dropped"
   ]
  },
  {
   "cell_type": "code",
   "execution_count": 8,
   "id": "85644ee2",
   "metadata": {
    "execution": {
     "iopub.execute_input": "2024-04-29T18:30:45.616119Z",
     "iopub.status.busy": "2024-04-29T18:30:45.615696Z",
     "iopub.status.idle": "2024-04-29T18:30:45.663156Z",
     "shell.execute_reply": "2024-04-29T18:30:45.661811Z"
    },
    "papermill": {
     "duration": 0.07811,
     "end_time": "2024-04-29T18:30:45.666250",
     "exception": false,
     "start_time": "2024-04-29T18:30:45.588140",
     "status": "completed"
    },
    "tags": []
   },
   "outputs": [
    {
     "data": {
      "text/html": [
       "<div>\n",
       "<style scoped>\n",
       "    .dataframe tbody tr th:only-of-type {\n",
       "        vertical-align: middle;\n",
       "    }\n",
       "\n",
       "    .dataframe tbody tr th {\n",
       "        vertical-align: top;\n",
       "    }\n",
       "\n",
       "    .dataframe thead th {\n",
       "        text-align: right;\n",
       "    }\n",
       "</style>\n",
       "<table border=\"1\" class=\"dataframe\">\n",
       "  <thead>\n",
       "    <tr style=\"text-align: right;\">\n",
       "      <th></th>\n",
       "      <th>ID</th>\n",
       "      <th>RecipeNumber</th>\n",
       "      <th>RecipeCode</th>\n",
       "      <th>UserReputation</th>\n",
       "      <th>CreationTimestamp</th>\n",
       "      <th>ReplyCount</th>\n",
       "      <th>ThumbsUpCount</th>\n",
       "      <th>ThumbsDownCount</th>\n",
       "      <th>Rating</th>\n",
       "      <th>BestScore</th>\n",
       "    </tr>\n",
       "  </thead>\n",
       "  <tbody>\n",
       "    <tr>\n",
       "      <th>count</th>\n",
       "      <td>13634.00000</td>\n",
       "      <td>13634.000000</td>\n",
       "      <td>13634.000000</td>\n",
       "      <td>13634.000000</td>\n",
       "      <td>1.363400e+04</td>\n",
       "      <td>13634.000000</td>\n",
       "      <td>13634.000000</td>\n",
       "      <td>13634.000000</td>\n",
       "      <td>13634.000000</td>\n",
       "      <td>13634.00000</td>\n",
       "    </tr>\n",
       "    <tr>\n",
       "      <th>mean</th>\n",
       "      <td>121.05589</td>\n",
       "      <td>38.629382</td>\n",
       "      <td>21787.406117</td>\n",
       "      <td>2.160481</td>\n",
       "      <td>1.623714e+09</td>\n",
       "      <td>0.014523</td>\n",
       "      <td>1.098430</td>\n",
       "      <td>0.543788</td>\n",
       "      <td>4.288617</td>\n",
       "      <td>153.13569</td>\n",
       "    </tr>\n",
       "    <tr>\n",
       "      <th>std</th>\n",
       "      <td>116.97871</td>\n",
       "      <td>29.671643</td>\n",
       "      <td>23884.389851</td>\n",
       "      <td>10.087154</td>\n",
       "      <td>5.444406e+06</td>\n",
       "      <td>0.137333</td>\n",
       "      <td>4.166771</td>\n",
       "      <td>3.265893</td>\n",
       "      <td>1.544928</td>\n",
       "      <td>140.99578</td>\n",
       "    </tr>\n",
       "    <tr>\n",
       "      <th>min</th>\n",
       "      <td>0.00000</td>\n",
       "      <td>1.000000</td>\n",
       "      <td>386.000000</td>\n",
       "      <td>0.000000</td>\n",
       "      <td>1.613035e+09</td>\n",
       "      <td>0.000000</td>\n",
       "      <td>0.000000</td>\n",
       "      <td>0.000000</td>\n",
       "      <td>0.000000</td>\n",
       "      <td>0.00000</td>\n",
       "    </tr>\n",
       "    <tr>\n",
       "      <th>25%</th>\n",
       "      <td>45.00000</td>\n",
       "      <td>12.000000</td>\n",
       "      <td>6504.000000</td>\n",
       "      <td>1.000000</td>\n",
       "      <td>1.622717e+09</td>\n",
       "      <td>0.000000</td>\n",
       "      <td>0.000000</td>\n",
       "      <td>0.000000</td>\n",
       "      <td>5.000000</td>\n",
       "      <td>100.00000</td>\n",
       "    </tr>\n",
       "    <tr>\n",
       "      <th>50%</th>\n",
       "      <td>91.00000</td>\n",
       "      <td>33.000000</td>\n",
       "      <td>14600.000000</td>\n",
       "      <td>1.000000</td>\n",
       "      <td>1.622718e+09</td>\n",
       "      <td>0.000000</td>\n",
       "      <td>0.000000</td>\n",
       "      <td>0.000000</td>\n",
       "      <td>5.000000</td>\n",
       "      <td>100.00000</td>\n",
       "    </tr>\n",
       "    <tr>\n",
       "      <th>75%</th>\n",
       "      <td>148.00000</td>\n",
       "      <td>63.000000</td>\n",
       "      <td>33121.000000</td>\n",
       "      <td>1.000000</td>\n",
       "      <td>1.622718e+09</td>\n",
       "      <td>0.000000</td>\n",
       "      <td>0.000000</td>\n",
       "      <td>0.000000</td>\n",
       "      <td>5.000000</td>\n",
       "      <td>100.00000</td>\n",
       "    </tr>\n",
       "    <tr>\n",
       "      <th>max</th>\n",
       "      <td>724.00000</td>\n",
       "      <td>100.000000</td>\n",
       "      <td>191775.000000</td>\n",
       "      <td>510.000000</td>\n",
       "      <td>1.665756e+09</td>\n",
       "      <td>3.000000</td>\n",
       "      <td>80.000000</td>\n",
       "      <td>126.000000</td>\n",
       "      <td>5.000000</td>\n",
       "      <td>946.00000</td>\n",
       "    </tr>\n",
       "  </tbody>\n",
       "</table>\n",
       "</div>"
      ],
      "text/plain": [
       "                ID  RecipeNumber     RecipeCode  UserReputation  \\\n",
       "count  13634.00000  13634.000000   13634.000000    13634.000000   \n",
       "mean     121.05589     38.629382   21787.406117        2.160481   \n",
       "std      116.97871     29.671643   23884.389851       10.087154   \n",
       "min        0.00000      1.000000     386.000000        0.000000   \n",
       "25%       45.00000     12.000000    6504.000000        1.000000   \n",
       "50%       91.00000     33.000000   14600.000000        1.000000   \n",
       "75%      148.00000     63.000000   33121.000000        1.000000   \n",
       "max      724.00000    100.000000  191775.000000      510.000000   \n",
       "\n",
       "       CreationTimestamp    ReplyCount  ThumbsUpCount  ThumbsDownCount  \\\n",
       "count       1.363400e+04  13634.000000   13634.000000     13634.000000   \n",
       "mean        1.623714e+09      0.014523       1.098430         0.543788   \n",
       "std         5.444406e+06      0.137333       4.166771         3.265893   \n",
       "min         1.613035e+09      0.000000       0.000000         0.000000   \n",
       "25%         1.622717e+09      0.000000       0.000000         0.000000   \n",
       "50%         1.622718e+09      0.000000       0.000000         0.000000   \n",
       "75%         1.622718e+09      0.000000       0.000000         0.000000   \n",
       "max         1.665756e+09      3.000000      80.000000       126.000000   \n",
       "\n",
       "             Rating    BestScore  \n",
       "count  13634.000000  13634.00000  \n",
       "mean       4.288617    153.13569  \n",
       "std        1.544928    140.99578  \n",
       "min        0.000000      0.00000  \n",
       "25%        5.000000    100.00000  \n",
       "50%        5.000000    100.00000  \n",
       "75%        5.000000    100.00000  \n",
       "max        5.000000    946.00000  "
      ]
     },
     "execution_count": 8,
     "metadata": {},
     "output_type": "execute_result"
    }
   ],
   "source": [
    "# checking Descriptive Statistics\n",
    "df.describe()"
   ]
  },
  {
   "cell_type": "markdown",
   "id": "ce29a003",
   "metadata": {
    "papermill": {
     "duration": 0.025748,
     "end_time": "2024-04-29T18:30:45.717972",
     "exception": false,
     "start_time": "2024-04-29T18:30:45.692224",
     "status": "completed"
    },
    "tags": []
   },
   "source": [
    "most of the data points are same even for 25%, 50% & 75% in almost all the columns for example in column ReplyCount, ThumbsUpCount, Rating & BestScore"
   ]
  },
  {
   "cell_type": "code",
   "execution_count": 9,
   "id": "ef00e61b",
   "metadata": {
    "execution": {
     "iopub.execute_input": "2024-04-29T18:30:45.772876Z",
     "iopub.status.busy": "2024-04-29T18:30:45.772418Z",
     "iopub.status.idle": "2024-04-29T18:30:45.785390Z",
     "shell.execute_reply": "2024-04-29T18:30:45.783983Z"
    },
    "papermill": {
     "duration": 0.043313,
     "end_time": "2024-04-29T18:30:45.788065",
     "exception": false,
     "start_time": "2024-04-29T18:30:45.744752",
     "status": "completed"
    },
    "tags": []
   },
   "outputs": [
    {
     "data": {
      "text/plain": [
       "Rating\n",
       "5    10369\n",
       "0     1272\n",
       "4     1241\n",
       "3      368\n",
       "1      210\n",
       "2      174\n",
       "Name: count, dtype: int64"
      ]
     },
     "execution_count": 9,
     "metadata": {},
     "output_type": "execute_result"
    }
   ],
   "source": [
    "df[\"Rating\"].value_counts()"
   ]
  },
  {
   "cell_type": "markdown",
   "id": "679a52b5",
   "metadata": {
    "papermill": {
     "duration": 0.026129,
     "end_time": "2024-04-29T18:30:45.840522",
     "exception": false,
     "start_time": "2024-04-29T18:30:45.814393",
     "status": "completed"
    },
    "tags": []
   },
   "source": [
    "there are lots of sample with high rating than others "
   ]
  },
  {
   "cell_type": "code",
   "execution_count": 10,
   "id": "d7099950",
   "metadata": {
    "execution": {
     "iopub.execute_input": "2024-04-29T18:30:45.895068Z",
     "iopub.status.busy": "2024-04-29T18:30:45.894644Z",
     "iopub.status.idle": "2024-04-29T18:30:46.292055Z",
     "shell.execute_reply": "2024-04-29T18:30:46.290714Z"
    },
    "papermill": {
     "duration": 0.427833,
     "end_time": "2024-04-29T18:30:46.294696",
     "exception": false,
     "start_time": "2024-04-29T18:30:45.866863",
     "status": "completed"
    },
    "tags": []
   },
   "outputs": [
    {
     "data": {
      "text/plain": [
       "Text(0, 0.5, 'Count')"
      ]
     },
     "execution_count": 10,
     "metadata": {},
     "output_type": "execute_result"
    },
    {
     "data": {
      "image/png": "[encoded data removed]",
      "text/plain": [
       "<Figure size 640x480 with 1 Axes>"
      ]
     },
     "metadata": {},
     "output_type": "display_data"
    }
   ],
   "source": [
    "sns.set()\n",
    "df.Rating.hist()\n",
    "plt.xlabel(\"Rating\")\n",
    "plt.ylabel('Count')"
   ]
  },
  {
   "cell_type": "markdown",
   "id": "271feb4a",
   "metadata": {
    "papermill": {
     "duration": 0.116455,
     "end_time": "2024-04-29T18:30:46.438058",
     "exception": false,
     "start_time": "2024-04-29T18:30:46.321603",
     "status": "completed"
    },
    "tags": []
   },
   "source": [
    "bar of rating 5 is taller than others"
   ]
  },
  {
   "cell_type": "code",
   "execution_count": 11,
   "id": "517af76b",
   "metadata": {
    "execution": {
     "iopub.execute_input": "2024-04-29T18:30:46.493989Z",
     "iopub.status.busy": "2024-04-29T18:30:46.493563Z",
     "iopub.status.idle": "2024-04-29T18:30:48.792644Z",
     "shell.execute_reply": "2024-04-29T18:30:48.791376Z"
    },
    "papermill": {
     "duration": 2.331286,
     "end_time": "2024-04-29T18:30:48.796253",
     "exception": false,
     "start_time": "2024-04-29T18:30:46.464967",
     "status": "completed"
    },
    "tags": []
   },
   "outputs": [
    {
     "data": {
      "text/plain": [
       "array([[<Axes: title={'center': 'ID'}>,\n",
       "        <Axes: title={'center': 'RecipeNumber'}>,\n",
       "        <Axes: title={'center': 'RecipeCode'}>],\n",
       "       [<Axes: title={'center': 'UserReputation'}>,\n",
       "        <Axes: title={'center': 'CreationTimestamp'}>,\n",
       "        <Axes: title={'center': 'ReplyCount'}>],\n",
       "       [<Axes: title={'center': 'ThumbsUpCount'}>,\n",
       "        <Axes: title={'center': 'ThumbsDownCount'}>,\n",
       "        <Axes: title={'center': 'BestScore'}>]], dtype=object)"
      ]
     },
     "execution_count": 11,
     "metadata": {},
     "output_type": "execute_result"
    },
    {
     "data": {
      "image/png": "[encoded data removed]",
      "text/plain": [
       "<Figure size 640x480 with 9 Axes>"
      ]
     },
     "metadata": {},
     "output_type": "display_data"
    }
   ],
   "source": [
    "# checking how data from each numeric column is distributed\n",
    "df.drop(\"Rating\", axis = 1).hist()"
   ]
  },
  {
   "cell_type": "markdown",
   "id": "b1881a64",
   "metadata": {
    "papermill": {
     "duration": 0.029143,
     "end_time": "2024-04-29T18:30:48.853863",
     "exception": false,
     "start_time": "2024-04-29T18:30:48.824720",
     "status": "completed"
    },
    "tags": []
   },
   "source": [
    "* Features are at different scales.\n",
    "* Features have different distributions -\n",
    "    * All are right skewed,\n",
    "    * All are tail heavy."
   ]
  },
  {
   "cell_type": "markdown",
   "id": "cf2d0bd0",
   "metadata": {
    "papermill": {
     "duration": 0.028782,
     "end_time": "2024-04-29T18:30:48.911764",
     "exception": false,
     "start_time": "2024-04-29T18:30:48.882982",
     "status": "completed"
    },
    "tags": []
   },
   "source": [
    "### Splitting the tranning and validation set"
   ]
  },
  {
   "cell_type": "code",
   "execution_count": 12,
   "id": "7485b83f",
   "metadata": {
    "execution": {
     "iopub.execute_input": "2024-04-29T18:30:48.973925Z",
     "iopub.status.busy": "2024-04-29T18:30:48.973491Z",
     "iopub.status.idle": "2024-04-29T18:30:48.981453Z",
     "shell.execute_reply": "2024-04-29T18:30:48.980515Z"
    },
    "papermill": {
     "duration": 0.04382,
     "end_time": "2024-04-29T18:30:48.983944",
     "exception": false,
     "start_time": "2024-04-29T18:30:48.940124",
     "status": "completed"
    },
    "tags": []
   },
   "outputs": [],
   "source": [
    "# seperating Features and target column\n",
    "X = df.drop(\"Rating\", axis = 1)\n",
    "y = df[\"Rating\"]"
   ]
  },
  {
   "cell_type": "code",
   "execution_count": 13,
   "id": "8ede9932",
   "metadata": {
    "execution": {
     "iopub.execute_input": "2024-04-29T18:30:49.046700Z",
     "iopub.status.busy": "2024-04-29T18:30:49.045863Z",
     "iopub.status.idle": "2024-04-29T18:30:49.069121Z",
     "shell.execute_reply": "2024-04-29T18:30:49.067721Z"
    },
    "papermill": {
     "duration": 0.058316,
     "end_time": "2024-04-29T18:30:49.072474",
     "exception": false,
     "start_time": "2024-04-29T18:30:49.014158",
     "status": "completed"
    },
    "tags": []
   },
   "outputs": [],
   "source": [
    "split = StratifiedShuffleSplit(n_splits=1, test_size=0.25, random_state=42)\n",
    "for train_index, validation_index in split.split(df, df[\"Rating\"]):\n",
    "  strat_train_set = df.loc[train_index]\n",
    "  strat_validation_set = df.loc[validation_index]"
   ]
  },
  {
   "cell_type": "markdown",
   "id": "e5ceb2f9",
   "metadata": {
    "papermill": {
     "duration": 0.030649,
     "end_time": "2024-04-29T18:30:49.140687",
     "exception": false,
     "start_time": "2024-04-29T18:30:49.110038",
     "status": "completed"
    },
    "tags": []
   },
   "source": [
    "### Visualisation"
   ]
  },
  {
   "cell_type": "code",
   "execution_count": 14,
   "id": "50dee9a7",
   "metadata": {
    "execution": {
     "iopub.execute_input": "2024-04-29T18:30:49.199765Z",
     "iopub.status.busy": "2024-04-29T18:30:49.198981Z",
     "iopub.status.idle": "2024-04-29T18:30:49.205840Z",
     "shell.execute_reply": "2024-04-29T18:30:49.204899Z"
    },
    "papermill": {
     "duration": 0.039011,
     "end_time": "2024-04-29T18:30:49.208197",
     "exception": false,
     "start_time": "2024-04-29T18:30:49.169186",
     "status": "completed"
    },
    "tags": []
   },
   "outputs": [],
   "source": [
    "#Creating Exploration Set for Visualisation\n",
    "Exploration_set = strat_train_set.copy()"
   ]
  },
  {
   "cell_type": "code",
   "execution_count": 15,
   "id": "59a75d6a",
   "metadata": {
    "execution": {
     "iopub.execute_input": "2024-04-29T18:30:49.267663Z",
     "iopub.status.busy": "2024-04-29T18:30:49.266788Z",
     "iopub.status.idle": "2024-04-29T18:30:49.281147Z",
     "shell.execute_reply": "2024-04-29T18:30:49.279649Z"
    },
    "papermill": {
     "duration": 0.047843,
     "end_time": "2024-04-29T18:30:49.284410",
     "exception": false,
     "start_time": "2024-04-29T18:30:49.236567",
     "status": "completed"
    },
    "tags": []
   },
   "outputs": [],
   "source": [
    "# selecting numerical columns\n",
    "numerical_columns = Exploration_set.select_dtypes(exclude=['object'])\n",
    "\n",
    "# checking corelation between numerical columns\n",
    "linear_corr_matrix = numerical_columns.corr()"
   ]
  },
  {
   "cell_type": "code",
   "execution_count": 16,
   "id": "2edfe887",
   "metadata": {
    "execution": {
     "iopub.execute_input": "2024-04-29T18:30:49.344115Z",
     "iopub.status.busy": "2024-04-29T18:30:49.343637Z",
     "iopub.status.idle": "2024-04-29T18:30:50.311125Z",
     "shell.execute_reply": "2024-04-29T18:30:50.310020Z"
    },
    "papermill": {
     "duration": 1.00345,
     "end_time": "2024-04-29T18:30:50.316424",
     "exception": false,
     "start_time": "2024-04-29T18:30:49.312974",
     "status": "completed"
    },
    "tags": []
   },
   "outputs": [
    {
     "data": {
      "text/plain": [
       "<Axes: >"
      ]
     },
     "execution_count": 16,
     "metadata": {},
     "output_type": "execute_result"
    },
    {
     "data": {
      "image/png": "[encoded data removed]",
      "text/plain": [
       "<Figure size 1400x700 with 2 Axes>"
      ]
     },
     "metadata": {},
     "output_type": "display_data"
    }
   ],
   "source": [
    "# visualising correlation\n",
    "plt.figure(figsize = (14,7))\n",
    "sns.heatmap(linear_corr_matrix, annot = True)"
   ]
  },
  {
   "cell_type": "markdown",
   "id": "9615eaca",
   "metadata": {
    "papermill": {
     "duration": 0.029774,
     "end_time": "2024-04-29T18:30:50.381179",
     "exception": false,
     "start_time": "2024-04-29T18:30:50.351405",
     "status": "completed"
    },
    "tags": []
   },
   "source": [
    "there is no significant linear correlation found between features and target column but there is Strong correlation between ThumbsUpCount and BestScore"
   ]
  },
  {
   "cell_type": "code",
   "execution_count": 17,
   "id": "123afd93",
   "metadata": {
    "execution": {
     "iopub.execute_input": "2024-04-29T18:30:50.446527Z",
     "iopub.status.busy": "2024-04-29T18:30:50.445617Z",
     "iopub.status.idle": "2024-04-29T18:30:50.463999Z",
     "shell.execute_reply": "2024-04-29T18:30:50.462611Z"
    },
    "papermill": {
     "duration": 0.053783,
     "end_time": "2024-04-29T18:30:50.467041",
     "exception": false,
     "start_time": "2024-04-29T18:30:50.413258",
     "status": "completed"
    },
    "tags": []
   },
   "outputs": [],
   "source": [
    "# checking non linear relationship between numerical columns\n",
    "non_linear_corr = numerical_columns.corr(method = \"spearman\" )"
   ]
  },
  {
   "cell_type": "code",
   "execution_count": 18,
   "id": "28b578d4",
   "metadata": {
    "execution": {
     "iopub.execute_input": "2024-04-29T18:30:50.530798Z",
     "iopub.status.busy": "2024-04-29T18:30:50.530319Z",
     "iopub.status.idle": "2024-04-29T18:30:51.626750Z",
     "shell.execute_reply": "2024-04-29T18:30:51.625367Z"
    },
    "papermill": {
     "duration": 1.134251,
     "end_time": "2024-04-29T18:30:51.631361",
     "exception": false,
     "start_time": "2024-04-29T18:30:50.497110",
     "status": "completed"
    },
    "tags": []
   },
   "outputs": [
    {
     "data": {
      "text/plain": [
       "<Axes: >"
      ]
     },
     "execution_count": 18,
     "metadata": {},
     "output_type": "execute_result"
    },
    {
     "data": {
      "image/png": "[encoded data removed]",
      "text/plain": [
       "<Figure size 1400x700 with 2 Axes>"
      ]
     },
     "metadata": {},
     "output_type": "display_data"
    }
   ],
   "source": [
    "# visualising correlation\n",
    "plt.figure(figsize = (14,7))\n",
    "sns.heatmap(non_linear_corr, annot = True)"
   ]
  },
  {
   "cell_type": "markdown",
   "id": "3f806c4e",
   "metadata": {
    "papermill": {
     "duration": 0.032233,
     "end_time": "2024-04-29T18:30:51.698323",
     "exception": false,
     "start_time": "2024-04-29T18:30:51.666090",
     "status": "completed"
    },
    "tags": []
   },
   "source": [
    "\n",
    "even there is no significant non linear correlation found between features and target column but there is strong correlation between ThumbsUpCount and BestScore"
   ]
  },
  {
   "cell_type": "markdown",
   "id": "258aa217",
   "metadata": {
    "papermill": {
     "duration": 0.032083,
     "end_time": "2024-04-29T18:30:51.763258",
     "exception": false,
     "start_time": "2024-04-29T18:30:51.731175",
     "status": "completed"
    },
    "tags": []
   },
   "source": [
    "# Preparing data for ML algorithm"
   ]
  },
  {
   "cell_type": "code",
   "execution_count": 19,
   "id": "c9e7ac16",
   "metadata": {
    "execution": {
     "iopub.execute_input": "2024-04-29T18:30:51.830671Z",
     "iopub.status.busy": "2024-04-29T18:30:51.830238Z",
     "iopub.status.idle": "2024-04-29T18:30:51.839465Z",
     "shell.execute_reply": "2024-04-29T18:30:51.838178Z"
    },
    "papermill": {
     "duration": 0.046215,
     "end_time": "2024-04-29T18:30:51.842323",
     "exception": false,
     "start_time": "2024-04-29T18:30:51.796108",
     "status": "completed"
    },
    "tags": []
   },
   "outputs": [],
   "source": [
    "#Separating features and labels from the training set.\n",
    "X_train = strat_train_set.drop(\"Rating\", axis=1)\n",
    "y_train = strat_train_set['Rating'].copy()"
   ]
  },
  {
   "cell_type": "code",
   "execution_count": 20,
   "id": "aac0016d",
   "metadata": {
    "execution": {
     "iopub.execute_input": "2024-04-29T18:30:51.909840Z",
     "iopub.status.busy": "2024-04-29T18:30:51.909460Z",
     "iopub.status.idle": "2024-04-29T18:30:51.917252Z",
     "shell.execute_reply": "2024-04-29T18:30:51.916299Z"
    },
    "papermill": {
     "duration": 0.044414,
     "end_time": "2024-04-29T18:30:51.919852",
     "exception": false,
     "start_time": "2024-04-29T18:30:51.875438",
     "status": "completed"
    },
    "tags": []
   },
   "outputs": [],
   "source": [
    "# droping features which are irrelevant for training model cosidering nature of the problem\n",
    "X_train.drop(columns = [\"ID\",\"RecipeNumber\",\"RecipeCode\",\"RecipeName\",\"CommentID\",\"UserID\", \"UserName\",\"CreationTimestamp\"], inplace = True)"
   ]
  },
  {
   "cell_type": "code",
   "execution_count": 21,
   "id": "7748e022",
   "metadata": {
    "execution": {
     "iopub.execute_input": "2024-04-29T18:30:51.989164Z",
     "iopub.status.busy": "2024-04-29T18:30:51.988697Z",
     "iopub.status.idle": "2024-04-29T18:30:52.004917Z",
     "shell.execute_reply": "2024-04-29T18:30:52.003622Z"
    },
    "papermill": {
     "duration": 0.054973,
     "end_time": "2024-04-29T18:30:52.007478",
     "exception": false,
     "start_time": "2024-04-29T18:30:51.952505",
     "status": "completed"
    },
    "tags": []
   },
   "outputs": [
    {
     "data": {
      "text/html": [
       "<div>\n",
       "<style scoped>\n",
       "    .dataframe tbody tr th:only-of-type {\n",
       "        vertical-align: middle;\n",
       "    }\n",
       "\n",
       "    .dataframe tbody tr th {\n",
       "        vertical-align: top;\n",
       "    }\n",
       "\n",
       "    .dataframe thead th {\n",
       "        text-align: right;\n",
       "    }\n",
       "</style>\n",
       "<table border=\"1\" class=\"dataframe\">\n",
       "  <thead>\n",
       "    <tr style=\"text-align: right;\">\n",
       "      <th></th>\n",
       "      <th>UserReputation</th>\n",
       "      <th>ReplyCount</th>\n",
       "      <th>ThumbsUpCount</th>\n",
       "      <th>ThumbsDownCount</th>\n",
       "      <th>BestScore</th>\n",
       "      <th>Recipe_Review</th>\n",
       "    </tr>\n",
       "  </thead>\n",
       "  <tbody>\n",
       "    <tr>\n",
       "      <th>4806</th>\n",
       "      <td>1</td>\n",
       "      <td>0</td>\n",
       "      <td>0</td>\n",
       "      <td>0</td>\n",
       "      <td>100</td>\n",
       "      <td>Made this for supper tonight  everyone loved i...</td>\n",
       "    </tr>\n",
       "    <tr>\n",
       "      <th>9152</th>\n",
       "      <td>1</td>\n",
       "      <td>0</td>\n",
       "      <td>0</td>\n",
       "      <td>0</td>\n",
       "      <td>100</td>\n",
       "      <td>I made this with low calorie /fat free substit...</td>\n",
       "    </tr>\n",
       "    <tr>\n",
       "      <th>4277</th>\n",
       "      <td>1</td>\n",
       "      <td>0</td>\n",
       "      <td>1</td>\n",
       "      <td>0</td>\n",
       "      <td>193</td>\n",
       "      <td>This recipe was awesome!  I followed it exactl...</td>\n",
       "    </tr>\n",
       "    <tr>\n",
       "      <th>11502</th>\n",
       "      <td>1</td>\n",
       "      <td>0</td>\n",
       "      <td>0</td>\n",
       "      <td>0</td>\n",
       "      <td>100</td>\n",
       "      <td>I would recommend cooking it an additional 20-...</td>\n",
       "    </tr>\n",
       "    <tr>\n",
       "      <th>437</th>\n",
       "      <td>1</td>\n",
       "      <td>0</td>\n",
       "      <td>0</td>\n",
       "      <td>1</td>\n",
       "      <td>100</td>\n",
       "      <td>My husband and I didn&amp;#39;t like this recipe. ...</td>\n",
       "    </tr>\n",
       "    <tr>\n",
       "      <th>...</th>\n",
       "      <td>...</td>\n",
       "      <td>...</td>\n",
       "      <td>...</td>\n",
       "      <td>...</td>\n",
       "      <td>...</td>\n",
       "      <td>...</td>\n",
       "    </tr>\n",
       "    <tr>\n",
       "      <th>10715</th>\n",
       "      <td>1</td>\n",
       "      <td>0</td>\n",
       "      <td>0</td>\n",
       "      <td>0</td>\n",
       "      <td>100</td>\n",
       "      <td>this is likely one of the easiest, tastiest so...</td>\n",
       "    </tr>\n",
       "    <tr>\n",
       "      <th>9451</th>\n",
       "      <td>1</td>\n",
       "      <td>0</td>\n",
       "      <td>0</td>\n",
       "      <td>0</td>\n",
       "      <td>100</td>\n",
       "      <td>How do you print out this recipe. Don’t see an...</td>\n",
       "    </tr>\n",
       "    <tr>\n",
       "      <th>12460</th>\n",
       "      <td>1</td>\n",
       "      <td>0</td>\n",
       "      <td>0</td>\n",
       "      <td>0</td>\n",
       "      <td>100</td>\n",
       "      <td>My husband and I really enjoyed this recipe! W...</td>\n",
       "    </tr>\n",
       "    <tr>\n",
       "      <th>2195</th>\n",
       "      <td>1</td>\n",
       "      <td>0</td>\n",
       "      <td>0</td>\n",
       "      <td>0</td>\n",
       "      <td>100</td>\n",
       "      <td>Very quick and simple to make.  Delicious!</td>\n",
       "    </tr>\n",
       "    <tr>\n",
       "      <th>2155</th>\n",
       "      <td>1</td>\n",
       "      <td>0</td>\n",
       "      <td>0</td>\n",
       "      <td>0</td>\n",
       "      <td>100</td>\n",
       "      <td>This recipe was very good. We ate it with bisc...</td>\n",
       "    </tr>\n",
       "  </tbody>\n",
       "</table>\n",
       "<p>10225 rows × 6 columns</p>\n",
       "</div>"
      ],
      "text/plain": [
       "       UserReputation  ReplyCount  ThumbsUpCount  ThumbsDownCount  BestScore  \\\n",
       "4806                1           0              0                0        100   \n",
       "9152                1           0              0                0        100   \n",
       "4277                1           0              1                0        193   \n",
       "11502               1           0              0                0        100   \n",
       "437                 1           0              0                1        100   \n",
       "...               ...         ...            ...              ...        ...   \n",
       "10715               1           0              0                0        100   \n",
       "9451                1           0              0                0        100   \n",
       "12460               1           0              0                0        100   \n",
       "2195                1           0              0                0        100   \n",
       "2155                1           0              0                0        100   \n",
       "\n",
       "                                           Recipe_Review  \n",
       "4806   Made this for supper tonight  everyone loved i...  \n",
       "9152   I made this with low calorie /fat free substit...  \n",
       "4277   This recipe was awesome!  I followed it exactl...  \n",
       "11502  I would recommend cooking it an additional 20-...  \n",
       "437    My husband and I didn&#39;t like this recipe. ...  \n",
       "...                                                  ...  \n",
       "10715  this is likely one of the easiest, tastiest so...  \n",
       "9451   How do you print out this recipe. Don’t see an...  \n",
       "12460  My husband and I really enjoyed this recipe! W...  \n",
       "2195          Very quick and simple to make.  Delicious!  \n",
       "2155   This recipe was very good. We ate it with bisc...  \n",
       "\n",
       "[10225 rows x 6 columns]"
      ]
     },
     "execution_count": 21,
     "metadata": {},
     "output_type": "execute_result"
    }
   ],
   "source": [
    "X_train"
   ]
  },
  {
   "cell_type": "markdown",
   "id": "c3432b6c",
   "metadata": {
    "papermill": {
     "duration": 0.034377,
     "end_time": "2024-04-29T18:30:52.078334",
     "exception": false,
     "start_time": "2024-04-29T18:30:52.043957",
     "status": "completed"
    },
    "tags": []
   },
   "source": [
    "## **Pre-processing data**"
   ]
  },
  {
   "cell_type": "code",
   "execution_count": 22,
   "id": "5c0d16e0",
   "metadata": {
    "execution": {
     "iopub.execute_input": "2024-04-29T18:30:52.147552Z",
     "iopub.status.busy": "2024-04-29T18:30:52.146277Z",
     "iopub.status.idle": "2024-04-29T18:30:52.158839Z",
     "shell.execute_reply": "2024-04-29T18:30:52.157612Z"
    },
    "papermill": {
     "duration": 0.049796,
     "end_time": "2024-04-29T18:30:52.161406",
     "exception": false,
     "start_time": "2024-04-29T18:30:52.111610",
     "status": "completed"
    },
    "tags": []
   },
   "outputs": [
    {
     "data": {
      "text/plain": [
       "UserReputation     0\n",
       "ReplyCount         0\n",
       "ThumbsUpCount      0\n",
       "ThumbsDownCount    0\n",
       "BestScore          0\n",
       "Recipe_Review      0\n",
       "dtype: int64"
      ]
     },
     "execution_count": 22,
     "metadata": {},
     "output_type": "execute_result"
    }
   ],
   "source": [
    "X_train.isna().sum()"
   ]
  },
  {
   "cell_type": "markdown",
   "id": "4787d778",
   "metadata": {
    "papermill": {
     "duration": 0.032716,
     "end_time": "2024-04-29T18:30:52.228112",
     "exception": false,
     "start_time": "2024-04-29T18:30:52.195396",
     "status": "completed"
    },
    "tags": []
   },
   "source": [
    "no null data points found in training features"
   ]
  },
  {
   "cell_type": "code",
   "execution_count": 23,
   "id": "fdaf79d4",
   "metadata": {
    "execution": {
     "iopub.execute_input": "2024-04-29T18:30:52.297760Z",
     "iopub.status.busy": "2024-04-29T18:30:52.297317Z",
     "iopub.status.idle": "2024-04-29T18:30:52.310750Z",
     "shell.execute_reply": "2024-04-29T18:30:52.309307Z"
    },
    "papermill": {
     "duration": 0.052427,
     "end_time": "2024-04-29T18:30:52.313638",
     "exception": false,
     "start_time": "2024-04-29T18:30:52.261211",
     "status": "completed"
    },
    "tags": []
   },
   "outputs": [],
   "source": [
    "def preprocess_text(text):\n",
    "    # function to Remove punctuation, Tokenize, lowercasing and removing stopwords\n",
    "    text = re.sub(r'[^\\w\\s]', ' ', text)\n",
    "    # Tokenize and lowercase\n",
    "    tokens = text.lower().split()\n",
    "    #common English stop words\n",
    "    stop_words = set([\"i\", \"me\", \"my\", \"myself\", \"we\", \"our\", \"ours\", \"ourselves\", \"you\", \"your\", \"yours\", \"yourself\", \"yourselves\", \"he\", \"him\", \"his\", \"himself\", \"she\", \"her\", \"hers\", \"herself\", \"it\", \"its\", \"itself\", \"they\", \"them\", \"their\", \"theirs\", \"themselves\", \"what\", \"which\", \"who\", \"whom\", \"this\", \"that\", \"these\", \"those\", \"am\", \"is\", \"are\", \"was\", \"were\", \"be\", \"been\", \"being\", \"have\", \"has\", \"had\", \"having\", \"do\", \"does\", \"did\", \"doing\", \"a\", \"an\", \"the\", \"and\", \"but\", \"if\", \"or\", \"because\", \"as\", \"until\", \"while\", \"of\", \"at\", \"by\", \"for\", \"with\", \"about\", \"against\", \"between\", \"into\", \"through\", \"during\", \"before\", \"after\", \"above\", \"below\", \"to\", \"from\", \"up\", \"down\", \"in\", \"out\", \"on\", \"off\", \"over\", \"under\", \"again\", \"further\", \"then\", \"once\", \"here\", \"there\", \"when\", \"where\", \"why\", \"how\", \"all\", \"any\", \"both\", \"each\", \"few\", \"more\", \"most\", \"other\", \"some\", \"such\", \"no\", \"nor\", \"not\", \"only\", \"own\", \"same\", \"so\", \"than\", \"too\", \"very\", \"s\", \"t\", \"can\", \"will\", \"just\", \"don\", \"should\", \"now\"])\n",
    "    return [token for token in tokens if token not in stop_words]"
   ]
  },
  {
   "cell_type": "code",
   "execution_count": 24,
   "id": "4cb92e56",
   "metadata": {
    "execution": {
     "iopub.execute_input": "2024-04-29T18:30:52.383092Z",
     "iopub.status.busy": "2024-04-29T18:30:52.382389Z",
     "iopub.status.idle": "2024-04-29T18:30:52.842022Z",
     "shell.execute_reply": "2024-04-29T18:30:52.840851Z"
    },
    "papermill": {
     "duration": 0.497409,
     "end_time": "2024-04-29T18:30:52.845005",
     "exception": false,
     "start_time": "2024-04-29T18:30:52.347596",
     "status": "completed"
    },
    "tags": []
   },
   "outputs": [],
   "source": [
    "# applying preprocessing function to Recipe_Review feature \n",
    "X_train['Preprocessed_Review'] = X_train['Recipe_Review'].apply(preprocess_text).apply(' '.join)"
   ]
  },
  {
   "cell_type": "code",
   "execution_count": 25,
   "id": "8680d55a",
   "metadata": {
    "execution": {
     "iopub.execute_input": "2024-04-29T18:30:52.917035Z",
     "iopub.status.busy": "2024-04-29T18:30:52.916655Z",
     "iopub.status.idle": "2024-04-29T18:30:52.924968Z",
     "shell.execute_reply": "2024-04-29T18:30:52.923471Z"
    },
    "papermill": {
     "duration": 0.048291,
     "end_time": "2024-04-29T18:30:52.927823",
     "exception": false,
     "start_time": "2024-04-29T18:30:52.879532",
     "status": "completed"
    },
    "tags": []
   },
   "outputs": [],
   "source": [
    "# dropping Recipe_Review feature after preprocessing it and storing as Preprocessed_Review\n",
    "X_train.drop(\"Recipe_Review\", axis = 1, inplace = True)"
   ]
  },
  {
   "cell_type": "code",
   "execution_count": 26,
   "id": "29d7607d",
   "metadata": {
    "execution": {
     "iopub.execute_input": "2024-04-29T18:30:53.000581Z",
     "iopub.status.busy": "2024-04-29T18:30:53.000129Z",
     "iopub.status.idle": "2024-04-29T18:30:53.007120Z",
     "shell.execute_reply": "2024-04-29T18:30:53.005607Z"
    },
    "papermill": {
     "duration": 0.047711,
     "end_time": "2024-04-29T18:30:53.009855",
     "exception": false,
     "start_time": "2024-04-29T18:30:52.962144",
     "status": "completed"
    },
    "tags": []
   },
   "outputs": [],
   "source": [
    "# selecting numerical columns name\n",
    "numerical_cols = X_train.select_dtypes(exclude=['object']).columns"
   ]
  },
  {
   "cell_type": "code",
   "execution_count": 27,
   "id": "7f32086a",
   "metadata": {
    "execution": {
     "iopub.execute_input": "2024-04-29T18:30:53.082409Z",
     "iopub.status.busy": "2024-04-29T18:30:53.081950Z",
     "iopub.status.idle": "2024-04-29T18:30:53.089736Z",
     "shell.execute_reply": "2024-04-29T18:30:53.088503Z"
    },
    "papermill": {
     "duration": 0.046677,
     "end_time": "2024-04-29T18:30:53.092382",
     "exception": false,
     "start_time": "2024-04-29T18:30:53.045705",
     "status": "completed"
    },
    "tags": []
   },
   "outputs": [],
   "source": [
    "#Separating features and labels from the training set.\n",
    "X_validation = strat_validation_set.drop(\"Rating\", axis=1)\n",
    "y_validation = strat_validation_set['Rating'].copy()"
   ]
  },
  {
   "cell_type": "code",
   "execution_count": 28,
   "id": "fc428eed",
   "metadata": {
    "execution": {
     "iopub.execute_input": "2024-04-29T18:30:53.163019Z",
     "iopub.status.busy": "2024-04-29T18:30:53.162514Z",
     "iopub.status.idle": "2024-04-29T18:30:53.318512Z",
     "shell.execute_reply": "2024-04-29T18:30:53.317217Z"
    },
    "papermill": {
     "duration": 0.195111,
     "end_time": "2024-04-29T18:30:53.321541",
     "exception": false,
     "start_time": "2024-04-29T18:30:53.126430",
     "status": "completed"
    },
    "tags": []
   },
   "outputs": [],
   "source": [
    "#removing irrelevant columns as removed in training data\n",
    "X_validation.drop(columns = [\"ID\",\"RecipeNumber\",\"RecipeCode\",\"RecipeName\",\"CommentID\",\"UserID\", \"UserName\",\"CreationTimestamp\"], inplace = True)\n",
    "X_validation['Preprocessed_Review'] = X_validation['Recipe_Review'].astype(str).apply(preprocess_text).apply(' '.join)\n",
    "X_validation.drop(\"Recipe_Review\", axis = 1, inplace = True)"
   ]
  },
  {
   "cell_type": "code",
   "execution_count": 29,
   "id": "7305d176",
   "metadata": {
    "execution": {
     "iopub.execute_input": "2024-04-29T18:30:53.393106Z",
     "iopub.status.busy": "2024-04-29T18:30:53.392692Z",
     "iopub.status.idle": "2024-04-29T18:30:53.398454Z",
     "shell.execute_reply": "2024-04-29T18:30:53.397576Z"
    },
    "papermill": {
     "duration": 0.044795,
     "end_time": "2024-04-29T18:30:53.400580",
     "exception": false,
     "start_time": "2024-04-29T18:30:53.355785",
     "status": "completed"
    },
    "tags": []
   },
   "outputs": [],
   "source": [
    "# Defining preprocessing steps for numerical and text features directly within ColumnTransformer\n",
    "preprocessor = ColumnTransformer(transformers=[\n",
    "    ('num', StandardScaler(), [0, 1, 2, 3, 4]),  # Scaling numerical features\n",
    "    ('text', TfidfVectorizer(), 5)  # Transforming text data into TF-IDF vectors\n",
    "])"
   ]
  },
  {
   "cell_type": "markdown",
   "id": "785865c7",
   "metadata": {
    "papermill": {
     "duration": 0.033911,
     "end_time": "2024-04-29T18:30:53.469402",
     "exception": false,
     "start_time": "2024-04-29T18:30:53.435491",
     "status": "completed"
    },
    "tags": []
   },
   "source": [
    "# Model Tranning and Evaluation"
   ]
  },
  {
   "cell_type": "markdown",
   "id": "b5a84c6c",
   "metadata": {
    "papermill": {
     "duration": 0.034034,
     "end_time": "2024-04-29T18:30:53.538211",
     "exception": false,
     "start_time": "2024-04-29T18:30:53.504177",
     "status": "completed"
    },
    "tags": []
   },
   "source": [
    "## Base-line model (Logistic Regression)"
   ]
  },
  {
   "cell_type": "code",
   "execution_count": 30,
   "id": "3a4eaaf9",
   "metadata": {
    "execution": {
     "iopub.execute_input": "2024-04-29T18:30:53.610511Z",
     "iopub.status.busy": "2024-04-29T18:30:53.610071Z",
     "iopub.status.idle": "2024-04-29T18:31:07.106565Z",
     "shell.execute_reply": "2024-04-29T18:31:07.105231Z"
    },
    "papermill": {
     "duration": 13.537407,
     "end_time": "2024-04-29T18:31:07.110249",
     "exception": false,
     "start_time": "2024-04-29T18:30:53.572842",
     "status": "completed"
    },
    "tags": []
   },
   "outputs": [
    {
     "name": "stdout",
     "output_type": "stream",
     "text": [
      "              precision    recall  f1-score   support\n",
      "\n",
      "           0       0.45      0.16      0.23       318\n",
      "           1       0.36      0.08      0.12        53\n",
      "           2       0.25      0.02      0.04        43\n",
      "           3       0.44      0.09      0.15        92\n",
      "           4       0.39      0.11      0.17       310\n",
      "           5       0.80      0.98      0.88      2593\n",
      "\n",
      "    accuracy                           0.77      3409\n",
      "   macro avg       0.45      0.24      0.27      3409\n",
      "weighted avg       0.70      0.77      0.71      3409\n",
      "\n"
     ]
    }
   ],
   "source": [
    "# Defining the final pipeline with preprocessing and classification steps\n",
    "logistic_pipeline = Pipeline(steps=[\n",
    "    ('preprocessor', preprocessor),  # Step 1: Preprocessing numerical and text features\n",
    "    ('clf', LogisticRegression(max_iter = 1000,C=2))  # Step 2: Fitting logistic regression model\n",
    "])\n",
    "\n",
    "# Fitting the pipeline on the training data\n",
    "logistic_pipeline.fit(X_train, y_train)\n",
    "\n",
    "y_pred_logistic = logistic_pipeline.predict(X_validation)\n",
    "\n",
    "# evaluating prediction made on validation set\n",
    "from sklearn.metrics import classification_report\n",
    "eval = classification_report(y_validation,y_pred_logistic)\n",
    "print(eval)"
   ]
  },
  {
   "cell_type": "markdown",
   "id": "93690853",
   "metadata": {
    "papermill": {
     "duration": 0.040866,
     "end_time": "2024-04-29T18:31:07.186268",
     "exception": false,
     "start_time": "2024-04-29T18:31:07.145402",
     "status": "completed"
    },
    "tags": []
   },
   "source": [
    "### Processing test data as training was preprocessed"
   ]
  },
  {
   "cell_type": "code",
   "execution_count": 31,
   "id": "1082aae1",
   "metadata": {
    "execution": {
     "iopub.execute_input": "2024-04-29T18:31:07.261150Z",
     "iopub.status.busy": "2024-04-29T18:31:07.260724Z",
     "iopub.status.idle": "2024-04-29T18:31:07.354474Z",
     "shell.execute_reply": "2024-04-29T18:31:07.353268Z"
    },
    "papermill": {
     "duration": 0.133951,
     "end_time": "2024-04-29T18:31:07.357535",
     "exception": false,
     "start_time": "2024-04-29T18:31:07.223584",
     "status": "completed"
    },
    "tags": []
   },
   "outputs": [
    {
     "data": {
      "text/html": [
       "<div>\n",
       "<style scoped>\n",
       "    .dataframe tbody tr th:only-of-type {\n",
       "        vertical-align: middle;\n",
       "    }\n",
       "\n",
       "    .dataframe tbody tr th {\n",
       "        vertical-align: top;\n",
       "    }\n",
       "\n",
       "    .dataframe thead th {\n",
       "        text-align: right;\n",
       "    }\n",
       "</style>\n",
       "<table border=\"1\" class=\"dataframe\">\n",
       "  <thead>\n",
       "    <tr style=\"text-align: right;\">\n",
       "      <th></th>\n",
       "      <th>ID</th>\n",
       "      <th>RecipeNumber</th>\n",
       "      <th>RecipeCode</th>\n",
       "      <th>RecipeName</th>\n",
       "      <th>CommentID</th>\n",
       "      <th>UserID</th>\n",
       "      <th>UserName</th>\n",
       "      <th>UserReputation</th>\n",
       "      <th>CreationTimestamp</th>\n",
       "      <th>ReplyCount</th>\n",
       "      <th>ThumbsUpCount</th>\n",
       "      <th>ThumbsDownCount</th>\n",
       "      <th>BestScore</th>\n",
       "      <th>Recipe_Review</th>\n",
       "    </tr>\n",
       "  </thead>\n",
       "  <tbody>\n",
       "    <tr>\n",
       "      <th>0</th>\n",
       "      <td>86</td>\n",
       "      <td>45</td>\n",
       "      <td>41384</td>\n",
       "      <td>Black Bean ‘n’ Pumpkin Chili</td>\n",
       "      <td>sp_aUSaElGf_41384_c_341929</td>\n",
       "      <td>u_1oKc4U6bh65cEli8Z8eTIf98Vpr</td>\n",
       "      <td>kalloween</td>\n",
       "      <td>1</td>\n",
       "      <td>1622718043</td>\n",
       "      <td>0</td>\n",
       "      <td>0</td>\n",
       "      <td>0</td>\n",
       "      <td>100</td>\n",
       "      <td>This was so good!!  The pumpkin was perfect as...</td>\n",
       "    </tr>\n",
       "    <tr>\n",
       "      <th>1</th>\n",
       "      <td>102</td>\n",
       "      <td>53</td>\n",
       "      <td>3143</td>\n",
       "      <td>Pumpkin Bars</td>\n",
       "      <td>sp_aUSaElGf_3143_c_274545</td>\n",
       "      <td>u_1oKW5seFLQMSwAeOfBVmwJizy5D</td>\n",
       "      <td>chocolate desert</td>\n",
       "      <td>1</td>\n",
       "      <td>1622717685</td>\n",
       "      <td>0</td>\n",
       "      <td>0</td>\n",
       "      <td>1</td>\n",
       "      <td>100</td>\n",
       "      <td>So good!   Could not stop eating them, so bad....</td>\n",
       "    </tr>\n",
       "    <tr>\n",
       "      <th>2</th>\n",
       "      <td>156</td>\n",
       "      <td>53</td>\n",
       "      <td>3143</td>\n",
       "      <td>Pumpkin Bars</td>\n",
       "      <td>sp_aUSaElGf_3143_c_398512</td>\n",
       "      <td>u_1oKZ6GUIAIol8xe6oEI7t1Mpxdz</td>\n",
       "      <td>Vantreesta</td>\n",
       "      <td>1</td>\n",
       "      <td>1622718307</td>\n",
       "      <td>0</td>\n",
       "      <td>0</td>\n",
       "      <td>0</td>\n",
       "      <td>100</td>\n",
       "      <td>I use a small ladle to fill muffin cups.</td>\n",
       "    </tr>\n",
       "    <tr>\n",
       "      <th>3</th>\n",
       "      <td>18</td>\n",
       "      <td>89</td>\n",
       "      <td>1324</td>\n",
       "      <td>Porcupine Meatballs</td>\n",
       "      <td>sp_aUSaElGf_1324_c_431662</td>\n",
       "      <td>u_1oKWCP33NVk4Osfpu4VJuIckEF0</td>\n",
       "      <td>Roberta L.Beauchamp</td>\n",
       "      <td>1</td>\n",
       "      <td>1622648872</td>\n",
       "      <td>0</td>\n",
       "      <td>4</td>\n",
       "      <td>3</td>\n",
       "      <td>212</td>\n",
       "      <td>I made this and followed the instructions as d...</td>\n",
       "    </tr>\n",
       "    <tr>\n",
       "      <th>4</th>\n",
       "      <td>27</td>\n",
       "      <td>70</td>\n",
       "      <td>32264</td>\n",
       "      <td>Easy Chicken Enchiladas</td>\n",
       "      <td>sp_aUSaElGf_32264_c_423935</td>\n",
       "      <td>u_1oKVhIJMuUlrSCVkbO1jheVTol8</td>\n",
       "      <td>fhquilting</td>\n",
       "      <td>1</td>\n",
       "      <td>1622718460</td>\n",
       "      <td>0</td>\n",
       "      <td>0</td>\n",
       "      <td>1</td>\n",
       "      <td>100</td>\n",
       "      <td>Very Good!  I used corn tortillas.  Used fresh...</td>\n",
       "    </tr>\n",
       "    <tr>\n",
       "      <th>...</th>\n",
       "      <td>...</td>\n",
       "      <td>...</td>\n",
       "      <td>...</td>\n",
       "      <td>...</td>\n",
       "      <td>...</td>\n",
       "      <td>...</td>\n",
       "      <td>...</td>\n",
       "      <td>...</td>\n",
       "      <td>...</td>\n",
       "      <td>...</td>\n",
       "      <td>...</td>\n",
       "      <td>...</td>\n",
       "      <td>...</td>\n",
       "      <td>...</td>\n",
       "    </tr>\n",
       "    <tr>\n",
       "      <th>4541</th>\n",
       "      <td>152</td>\n",
       "      <td>32</td>\n",
       "      <td>17310</td>\n",
       "      <td>Seafood Lasagna</td>\n",
       "      <td>sp_aUSaElGf_17310_c_310012</td>\n",
       "      <td>u_1oKYP0QIv00q3K9Z5U0TosT5gYx</td>\n",
       "      <td>jsantullo</td>\n",
       "      <td>1</td>\n",
       "      <td>1622717899</td>\n",
       "      <td>0</td>\n",
       "      <td>0</td>\n",
       "      <td>0</td>\n",
       "      <td>100</td>\n",
       "      <td>This is an absolutely wonderful seafood recipe...</td>\n",
       "    </tr>\n",
       "    <tr>\n",
       "      <th>4542</th>\n",
       "      <td>121</td>\n",
       "      <td>74</td>\n",
       "      <td>26937</td>\n",
       "      <td>Pineapple Pudding Cake</td>\n",
       "      <td>sp_aUSaElGf_26937_c_331905</td>\n",
       "      <td>u_1oKVlhuSfIH4M8gwWLvmkvs3215</td>\n",
       "      <td>homeoftaste</td>\n",
       "      <td>1</td>\n",
       "      <td>1622717990</td>\n",
       "      <td>0</td>\n",
       "      <td>0</td>\n",
       "      <td>0</td>\n",
       "      <td>100</td>\n",
       "      <td>This us a definite &amp;#34;OMG&amp;#34;.  Tastes sinf...</td>\n",
       "    </tr>\n",
       "    <tr>\n",
       "      <th>4543</th>\n",
       "      <td>133</td>\n",
       "      <td>73</td>\n",
       "      <td>41095</td>\n",
       "      <td>Contest-Winning New England Clam Chowder</td>\n",
       "      <td>sp_aUSaElGf_41095_c_112060</td>\n",
       "      <td>u_1oKVb3oC9QR5uDI8OqeaPncMtBe</td>\n",
       "      <td>cmfisher</td>\n",
       "      <td>1</td>\n",
       "      <td>1622716903</td>\n",
       "      <td>0</td>\n",
       "      <td>0</td>\n",
       "      <td>0</td>\n",
       "      <td>100</td>\n",
       "      <td>absolutely great....even husband and grandson ...</td>\n",
       "    </tr>\n",
       "    <tr>\n",
       "      <th>4544</th>\n",
       "      <td>91</td>\n",
       "      <td>12</td>\n",
       "      <td>19731</td>\n",
       "      <td>Cauliflower Soup</td>\n",
       "      <td>sp_aUSaElGf_19731_c_391682</td>\n",
       "      <td>u_1oKcs7T7xAY63ZrRKCwH8ccshww</td>\n",
       "      <td>danalu8</td>\n",
       "      <td>1</td>\n",
       "      <td>1622718289</td>\n",
       "      <td>0</td>\n",
       "      <td>0</td>\n",
       "      <td>1</td>\n",
       "      <td>100</td>\n",
       "      <td>I followed directions. It tastes very bland. V...</td>\n",
       "    </tr>\n",
       "    <tr>\n",
       "      <th>4545</th>\n",
       "      <td>72</td>\n",
       "      <td>93</td>\n",
       "      <td>42873</td>\n",
       "      <td>Teriyaki Chicken Thighs</td>\n",
       "      <td>sp_aUSaElGf_42873_c_113484</td>\n",
       "      <td>u_1oKVnzyJyDQtTpG0U7QQIHaw5o2</td>\n",
       "      <td>KrystalK87</td>\n",
       "      <td>1</td>\n",
       "      <td>1622716916</td>\n",
       "      <td>0</td>\n",
       "      <td>0</td>\n",
       "      <td>0</td>\n",
       "      <td>100</td>\n",
       "      <td>After reading the amazing reviews, I decided t...</td>\n",
       "    </tr>\n",
       "  </tbody>\n",
       "</table>\n",
       "<p>4546 rows × 14 columns</p>\n",
       "</div>"
      ],
      "text/plain": [
       "       ID  RecipeNumber  RecipeCode                                RecipeName  \\\n",
       "0      86            45       41384              Black Bean ‘n’ Pumpkin Chili   \n",
       "1     102            53        3143                              Pumpkin Bars   \n",
       "2     156            53        3143                              Pumpkin Bars   \n",
       "3      18            89        1324                       Porcupine Meatballs   \n",
       "4      27            70       32264                   Easy Chicken Enchiladas   \n",
       "...   ...           ...         ...                                       ...   \n",
       "4541  152            32       17310                           Seafood Lasagna   \n",
       "4542  121            74       26937                    Pineapple Pudding Cake   \n",
       "4543  133            73       41095  Contest-Winning New England Clam Chowder   \n",
       "4544   91            12       19731                          Cauliflower Soup   \n",
       "4545   72            93       42873                   Teriyaki Chicken Thighs   \n",
       "\n",
       "                       CommentID                         UserID  \\\n",
       "0     sp_aUSaElGf_41384_c_341929  u_1oKc4U6bh65cEli8Z8eTIf98Vpr   \n",
       "1      sp_aUSaElGf_3143_c_274545  u_1oKW5seFLQMSwAeOfBVmwJizy5D   \n",
       "2      sp_aUSaElGf_3143_c_398512  u_1oKZ6GUIAIol8xe6oEI7t1Mpxdz   \n",
       "3      sp_aUSaElGf_1324_c_431662  u_1oKWCP33NVk4Osfpu4VJuIckEF0   \n",
       "4     sp_aUSaElGf_32264_c_423935  u_1oKVhIJMuUlrSCVkbO1jheVTol8   \n",
       "...                          ...                            ...   \n",
       "4541  sp_aUSaElGf_17310_c_310012  u_1oKYP0QIv00q3K9Z5U0TosT5gYx   \n",
       "4542  sp_aUSaElGf_26937_c_331905  u_1oKVlhuSfIH4M8gwWLvmkvs3215   \n",
       "4543  sp_aUSaElGf_41095_c_112060  u_1oKVb3oC9QR5uDI8OqeaPncMtBe   \n",
       "4544  sp_aUSaElGf_19731_c_391682  u_1oKcs7T7xAY63ZrRKCwH8ccshww   \n",
       "4545  sp_aUSaElGf_42873_c_113484  u_1oKVnzyJyDQtTpG0U7QQIHaw5o2   \n",
       "\n",
       "                 UserName  UserReputation  CreationTimestamp  ReplyCount  \\\n",
       "0               kalloween               1         1622718043           0   \n",
       "1        chocolate desert               1         1622717685           0   \n",
       "2              Vantreesta               1         1622718307           0   \n",
       "3     Roberta L.Beauchamp               1         1622648872           0   \n",
       "4              fhquilting               1         1622718460           0   \n",
       "...                   ...             ...                ...         ...   \n",
       "4541            jsantullo               1         1622717899           0   \n",
       "4542          homeoftaste               1         1622717990           0   \n",
       "4543             cmfisher               1         1622716903           0   \n",
       "4544              danalu8               1         1622718289           0   \n",
       "4545           KrystalK87               1         1622716916           0   \n",
       "\n",
       "      ThumbsUpCount  ThumbsDownCount  BestScore  \\\n",
       "0                 0                0        100   \n",
       "1                 0                1        100   \n",
       "2                 0                0        100   \n",
       "3                 4                3        212   \n",
       "4                 0                1        100   \n",
       "...             ...              ...        ...   \n",
       "4541              0                0        100   \n",
       "4542              0                0        100   \n",
       "4543              0                0        100   \n",
       "4544              0                1        100   \n",
       "4545              0                0        100   \n",
       "\n",
       "                                          Recipe_Review  \n",
       "0     This was so good!!  The pumpkin was perfect as...  \n",
       "1     So good!   Could not stop eating them, so bad....  \n",
       "2              I use a small ladle to fill muffin cups.  \n",
       "3     I made this and followed the instructions as d...  \n",
       "4     Very Good!  I used corn tortillas.  Used fresh...  \n",
       "...                                                 ...  \n",
       "4541  This is an absolutely wonderful seafood recipe...  \n",
       "4542  This us a definite &#34;OMG&#34;.  Tastes sinf...  \n",
       "4543  absolutely great....even husband and grandson ...  \n",
       "4544  I followed directions. It tastes very bland. V...  \n",
       "4545  After reading the amazing reviews, I decided t...  \n",
       "\n",
       "[4546 rows x 14 columns]"
      ]
     },
     "execution_count": 31,
     "metadata": {},
     "output_type": "execute_result"
    }
   ],
   "source": [
    "# importing test data for submission\n",
    "df_test = pd.read_csv(\"/kaggle/input/recipe-for-rating-predict-food-ratings-using-ml/test.csv\")\n",
    "X_test = df_test\n",
    "X_test"
   ]
  },
  {
   "cell_type": "code",
   "execution_count": 32,
   "id": "0c08be77",
   "metadata": {
    "execution": {
     "iopub.execute_input": "2024-04-29T18:31:07.434787Z",
     "iopub.status.busy": "2024-04-29T18:31:07.434317Z",
     "iopub.status.idle": "2024-04-29T18:31:07.645863Z",
     "shell.execute_reply": "2024-04-29T18:31:07.644611Z"
    },
    "papermill": {
     "duration": 0.25446,
     "end_time": "2024-04-29T18:31:07.649018",
     "exception": false,
     "start_time": "2024-04-29T18:31:07.394558",
     "status": "completed"
    },
    "tags": []
   },
   "outputs": [],
   "source": [
    "#removing irrelevant columns as removed in training data\n",
    "X_test.drop(columns = [\"ID\",\"RecipeNumber\",\"RecipeCode\",\"RecipeName\",\"CommentID\",\"UserID\", \"UserName\",\"CreationTimestamp\"], inplace = True)\n",
    "X_test['Preprocessed_Review'] = X_test['Recipe_Review'].astype(str).apply(preprocess_text).apply(' '.join)\n",
    "X_test.drop(\"Recipe_Review\", axis = 1, inplace = True)"
   ]
  },
  {
   "cell_type": "markdown",
   "id": "ed7b8227",
   "metadata": {
    "papermill": {
     "duration": 0.036629,
     "end_time": "2024-04-29T18:31:07.720928",
     "exception": false,
     "start_time": "2024-04-29T18:31:07.684299",
     "status": "completed"
    },
    "tags": []
   },
   "source": [
    "## Performing Cross-validation for Logistic Regression"
   ]
  },
  {
   "cell_type": "code",
   "execution_count": 33,
   "id": "21a5c27e",
   "metadata": {
    "execution": {
     "iopub.execute_input": "2024-04-29T18:31:07.795685Z",
     "iopub.status.busy": "2024-04-29T18:31:07.794134Z",
     "iopub.status.idle": "2024-04-29T18:31:58.434451Z",
     "shell.execute_reply": "2024-04-29T18:31:58.433128Z"
    },
    "papermill": {
     "duration": 50.681145,
     "end_time": "2024-04-29T18:31:58.437764",
     "exception": false,
     "start_time": "2024-04-29T18:31:07.756619",
     "status": "completed"
    },
    "tags": []
   },
   "outputs": [],
   "source": [
    "kfold_cv = KFold(n_splits=5)\n",
    "score = cross_val_score(logistic_pipeline, X_train, y_train, cv=kfold_cv)"
   ]
  },
  {
   "cell_type": "code",
   "execution_count": 34,
   "id": "0bc249ed",
   "metadata": {
    "execution": {
     "iopub.execute_input": "2024-04-29T18:31:58.512265Z",
     "iopub.status.busy": "2024-04-29T18:31:58.511774Z",
     "iopub.status.idle": "2024-04-29T18:31:58.518159Z",
     "shell.execute_reply": "2024-04-29T18:31:58.516912Z"
    },
    "papermill": {
     "duration": 0.04786,
     "end_time": "2024-04-29T18:31:58.522055",
     "exception": false,
     "start_time": "2024-04-29T18:31:58.474195",
     "status": "completed"
    },
    "tags": []
   },
   "outputs": [
    {
     "name": "stdout",
     "output_type": "stream",
     "text": [
      "[0.7794621  0.76674817 0.76772616 0.77310513 0.77457213]\n",
      "0.772322738386308\n"
     ]
    }
   ],
   "source": [
    "#checking cross validation score of each model trained on different folds and mean of all the scores\n",
    "print(score)\n",
    "print(score.mean())"
   ]
  },
  {
   "cell_type": "markdown",
   "id": "36dbed3b",
   "metadata": {
    "papermill": {
     "duration": 0.035447,
     "end_time": "2024-04-29T18:31:58.593223",
     "exception": false,
     "start_time": "2024-04-29T18:31:58.557776",
     "status": "completed"
    },
    "tags": []
   },
   "source": [
    "mean score is closed to accuracy we got from Logistic pipeline so we can conclude that model is not Over fitted"
   ]
  },
  {
   "cell_type": "markdown",
   "id": "62772331",
   "metadata": {
    "papermill": {
     "duration": 0.035506,
     "end_time": "2024-04-29T18:31:58.664010",
     "exception": false,
     "start_time": "2024-04-29T18:31:58.628504",
     "status": "completed"
    },
    "tags": []
   },
   "source": [
    "### Hyper parameter tunning for Logistic model"
   ]
  },
  {
   "cell_type": "code",
   "execution_count": 35,
   "id": "c36baed4",
   "metadata": {
    "execution": {
     "iopub.execute_input": "2024-04-29T18:31:58.739375Z",
     "iopub.status.busy": "2024-04-29T18:31:58.738180Z",
     "iopub.status.idle": "2024-04-29T18:33:30.622623Z",
     "shell.execute_reply": "2024-04-29T18:33:30.620494Z"
    },
    "papermill": {
     "duration": 91.984008,
     "end_time": "2024-04-29T18:33:30.684405",
     "exception": false,
     "start_time": "2024-04-29T18:31:58.700397",
     "status": "completed"
    },
    "tags": []
   },
   "outputs": [
    {
     "name": "stdout",
     "output_type": "stream",
     "text": [
      "Best parameters: {'clf__max_iter': 1000, 'clf__C': 1.7}\n",
      "Best cross-validation score: 0.77\n"
     ]
    }
   ],
   "source": [
    "param_grid = {'clf__C': [1.3,1.4, 1.5, 1.6, 1.7, 1.8],\n",
    "              'clf__max_iter': [1000, 2000, 3000]}\n",
    "\n",
    "# Performing RandomizedSearchCV for hyperparameter tuning\n",
    "logistic_search = RandomizedSearchCV(logistic_pipeline, param_grid, n_jobs=-1, cv=5)\n",
    "logistic_search.fit(X_train, y_train)\n",
    "\n",
    "print(\"Best parameters:\", logistic_search.best_params_)\n",
    "print(\"Best cross-validation score:\", round(logistic_search.best_score_, 2))"
   ]
  },
  {
   "cell_type": "markdown",
   "id": "47b2bd6a",
   "metadata": {
    "papermill": {
     "duration": 0.035398,
     "end_time": "2024-04-29T18:33:30.766798",
     "exception": false,
     "start_time": "2024-04-29T18:33:30.731400",
     "status": "completed"
    },
    "tags": []
   },
   "source": [
    "After tunning hyper parameter tunning accuracy is not much changed, even round off value is same"
   ]
  },
  {
   "cell_type": "markdown",
   "id": "143003a1",
   "metadata": {
    "papermill": {
     "duration": 0.036977,
     "end_time": "2024-04-29T18:33:30.839771",
     "exception": false,
     "start_time": "2024-04-29T18:33:30.802794",
     "status": "completed"
    },
    "tags": []
   },
   "source": [
    "### Fitting KNeighborsClassifier"
   ]
  },
  {
   "cell_type": "code",
   "execution_count": 36,
   "id": "15181f01",
   "metadata": {
    "execution": {
     "iopub.execute_input": "2024-04-29T18:33:30.914261Z",
     "iopub.status.busy": "2024-04-29T18:33:30.913266Z",
     "iopub.status.idle": "2024-04-29T18:33:43.298179Z",
     "shell.execute_reply": "2024-04-29T18:33:43.296782Z"
    },
    "papermill": {
     "duration": 12.426224,
     "end_time": "2024-04-29T18:33:43.301702",
     "exception": false,
     "start_time": "2024-04-29T18:33:30.875478",
     "status": "completed"
    },
    "tags": []
   },
   "outputs": [],
   "source": [
    "# Defining the final pipeline with preprocessing and classification steps\n",
    "knn_pipeline = Pipeline(steps=[\n",
    "    ('preprocessor', preprocessor),  # Step 1: Preprocessing numerical and text features\n",
    "    ('knn_model', KNeighborsClassifier(n_neighbors=5))  # Step 2: Fitting logistic regression model\n",
    "])\n",
    "\n",
    "# Fitting the pipeline on the training data\n",
    "knn_pipeline.fit(X_train, y_train)\n",
    "\n",
    "y_pred_knn = knn_pipeline.predict(X_validation)"
   ]
  },
  {
   "cell_type": "code",
   "execution_count": 37,
   "id": "385256d4",
   "metadata": {
    "execution": {
     "iopub.execute_input": "2024-04-29T18:33:43.376614Z",
     "iopub.status.busy": "2024-04-29T18:33:43.375655Z",
     "iopub.status.idle": "2024-04-29T18:33:43.383398Z",
     "shell.execute_reply": "2024-04-29T18:33:43.382459Z"
    },
    "papermill": {
     "duration": 0.048673,
     "end_time": "2024-04-29T18:33:43.386358",
     "exception": false,
     "start_time": "2024-04-29T18:33:43.337685",
     "status": "completed"
    },
    "tags": []
   },
   "outputs": [
    {
     "name": "stdout",
     "output_type": "stream",
     "text": [
      "Accuracy: 0.7453798767967146\n"
     ]
    }
   ],
   "source": [
    "# Evaluating the model's performance\n",
    "accuracy = accuracy_score(y_validation, y_pred_knn)\n",
    "print(\"Accuracy:\", accuracy)"
   ]
  },
  {
   "cell_type": "markdown",
   "id": "30447db0",
   "metadata": {
    "papermill": {
     "duration": 0.035275,
     "end_time": "2024-04-29T18:33:43.456985",
     "exception": false,
     "start_time": "2024-04-29T18:33:43.421710",
     "status": "completed"
    },
    "tags": []
   },
   "source": [
    "* Accuracy is even less than the base line model.\n",
    "* it is correctly predicting approximately 75% of all the predictions made"
   ]
  },
  {
   "cell_type": "markdown",
   "id": "b44b1604",
   "metadata": {
    "papermill": {
     "duration": 0.035131,
     "end_time": "2024-04-29T18:33:43.527209",
     "exception": false,
     "start_time": "2024-04-29T18:33:43.492078",
     "status": "completed"
    },
    "tags": []
   },
   "source": [
    "### Performing Hyper parameters Tunning for KNeighborsClassifier"
   ]
  },
  {
   "cell_type": "code",
   "execution_count": 38,
   "id": "894b1af8",
   "metadata": {
    "execution": {
     "iopub.execute_input": "2024-04-29T18:33:43.601019Z",
     "iopub.status.busy": "2024-04-29T18:33:43.600130Z",
     "iopub.status.idle": "2024-04-29T18:37:05.286704Z",
     "shell.execute_reply": "2024-04-29T18:37:05.285449Z"
    },
    "papermill": {
     "duration": 201.762856,
     "end_time": "2024-04-29T18:37:05.325528",
     "exception": false,
     "start_time": "2024-04-29T18:33:43.562672",
     "status": "completed"
    },
    "tags": []
   },
   "outputs": [
    {
     "name": "stdout",
     "output_type": "stream",
     "text": [
      "Best parameters: {'knn_model__weights': 'distance', 'knn_model__p': 2, 'knn_model__n_neighbors': 7}\n",
      "Best cross-validation score: 0.76\n"
     ]
    }
   ],
   "source": [
    "#Tunning hyper parameters to enhance the performance\n",
    "param_grid = {\n",
    "    'knn_model__n_neighbors': [3, 5, 7],\n",
    "    'knn_model__weights': ['uniform', 'distance'],\n",
    "    'knn_model__p': [1, 2]\n",
    "}\n",
    "\n",
    "# Performing RandomizedSearchCV for hyperparameter tuning\n",
    "search = RandomizedSearchCV(knn_pipeline, param_grid, n_jobs=-1, cv=5)\n",
    "search.fit(X_train, y_train)\n",
    "\n",
    "print(\"Best parameters:\", search.best_params_)\n",
    "print(\"Best cross-validation score:\", round(search.best_score_, 2))"
   ]
  },
  {
   "cell_type": "markdown",
   "id": "9df45ad4",
   "metadata": {
    "papermill": {
     "duration": 0.034383,
     "end_time": "2024-04-29T18:37:05.395816",
     "exception": false,
     "start_time": "2024-04-29T18:37:05.361433",
     "status": "completed"
    },
    "tags": []
   },
   "source": [
    "* Accuracy is more than before but still less than base model"
   ]
  },
  {
   "cell_type": "markdown",
   "id": "1e070934",
   "metadata": {
    "papermill": {
     "duration": 0.034826,
     "end_time": "2024-04-29T18:37:05.465696",
     "exception": false,
     "start_time": "2024-04-29T18:37:05.430870",
     "status": "completed"
    },
    "tags": []
   },
   "source": [
    "### Fitting SVC "
   ]
  },
  {
   "cell_type": "code",
   "execution_count": 39,
   "id": "b0a45e59",
   "metadata": {
    "execution": {
     "iopub.execute_input": "2024-04-29T18:37:05.538551Z",
     "iopub.status.busy": "2024-04-29T18:37:05.538050Z",
     "iopub.status.idle": "2024-04-29T18:37:35.304626Z",
     "shell.execute_reply": "2024-04-29T18:37:35.303386Z"
    },
    "papermill": {
     "duration": 29.80582,
     "end_time": "2024-04-29T18:37:35.307190",
     "exception": false,
     "start_time": "2024-04-29T18:37:05.501370",
     "status": "completed"
    },
    "tags": []
   },
   "outputs": [
    {
     "name": "stdout",
     "output_type": "stream",
     "text": [
      "Accuracy: 0.7618069815195072\n"
     ]
    }
   ],
   "source": [
    "# Defining the final pipeline with preprocessing and classification steps\n",
    "svm_pipeline = Pipeline(steps=[\n",
    "    ('preprocessor', preprocessor),  # Step 1: Preprocessing numerical and text features\n",
    "    ('svm_model', SVC())  # Step 2: Fitting logistic regression model\n",
    "])\n",
    "\n",
    "# Fitting the pipeline on the training data\n",
    "svm_pipeline.fit(X_train, y_train)\n",
    "\n",
    "y_pred_svc = svm_pipeline.predict(X_validation)\n",
    "\n",
    "# Evaluating the model's performance\n",
    "accuracy = accuracy_score(y_validation, y_pred_svc)\n",
    "print(\"Accuracy:\", accuracy)"
   ]
  },
  {
   "cell_type": "markdown",
   "id": "8e35c98e",
   "metadata": {
    "papermill": {
     "duration": 0.03462,
     "end_time": "2024-04-29T18:37:35.377923",
     "exception": false,
     "start_time": "2024-04-29T18:37:35.343303",
     "status": "completed"
    },
    "tags": []
   },
   "source": [
    "explains 76% of all the predictions made"
   ]
  },
  {
   "cell_type": "markdown",
   "id": "2d3d311a",
   "metadata": {
    "papermill": {
     "duration": 0.035244,
     "end_time": "2024-04-29T18:37:35.448185",
     "exception": false,
     "start_time": "2024-04-29T18:37:35.412941",
     "status": "completed"
    },
    "tags": []
   },
   "source": [
    "### Fitting DecisionTreeClassifier "
   ]
  },
  {
   "cell_type": "code",
   "execution_count": 40,
   "id": "cf89bb3b",
   "metadata": {
    "execution": {
     "iopub.execute_input": "2024-04-29T18:37:35.521380Z",
     "iopub.status.busy": "2024-04-29T18:37:35.520603Z",
     "iopub.status.idle": "2024-04-29T18:37:39.784546Z",
     "shell.execute_reply": "2024-04-29T18:37:39.783261Z"
    },
    "papermill": {
     "duration": 4.30382,
     "end_time": "2024-04-29T18:37:39.787098",
     "exception": false,
     "start_time": "2024-04-29T18:37:35.483278",
     "status": "completed"
    },
    "tags": []
   },
   "outputs": [
    {
     "name": "stdout",
     "output_type": "stream",
     "text": [
      "Accuracy: 0.6808448225286008\n"
     ]
    }
   ],
   "source": [
    "# Defining the final pipeline with preprocessing and classification steps\n",
    "tree_pipeline = Pipeline(steps=[\n",
    "    ('preprocessor', preprocessor),  # Step 1: Preprocessing numerical and text features\n",
    "    ('tree_model', DecisionTreeClassifier())  # Step 2: Fitting logistic regression model\n",
    "])\n",
    "\n",
    "# Fitting the pipeline on the training data\n",
    "tree_pipeline.fit(X_train, y_train)\n",
    "\n",
    "y_pred_tree = tree_pipeline.predict(X_validation)\n",
    "\n",
    "# Evaluating the model's performance\n",
    "accuracy = accuracy_score(y_validation, y_pred_tree)\n",
    "print(\"Accuracy:\", accuracy)"
   ]
  },
  {
   "cell_type": "markdown",
   "id": "4ee6fda5",
   "metadata": {
    "papermill": {
     "duration": 0.036739,
     "end_time": "2024-04-29T18:37:39.859528",
     "exception": false,
     "start_time": "2024-04-29T18:37:39.822789",
     "status": "completed"
    },
    "tags": []
   },
   "source": [
    "* Accuracy is least as compared to all the model    fitted till now\n",
    "* explains 68% of all the predictions made"
   ]
  },
  {
   "cell_type": "markdown",
   "id": "7196c458",
   "metadata": {
    "papermill": {
     "duration": 0.036105,
     "end_time": "2024-04-29T18:37:39.931489",
     "exception": false,
     "start_time": "2024-04-29T18:37:39.895384",
     "status": "completed"
    },
    "tags": []
   },
   "source": [
    "### Fitting RandomForestClassifier"
   ]
  },
  {
   "cell_type": "code",
   "execution_count": 41,
   "id": "6aaa0b4e",
   "metadata": {
    "execution": {
     "iopub.execute_input": "2024-04-29T18:37:40.005976Z",
     "iopub.status.busy": "2024-04-29T18:37:40.005542Z",
     "iopub.status.idle": "2024-04-29T18:37:55.732308Z",
     "shell.execute_reply": "2024-04-29T18:37:55.731045Z"
    },
    "papermill": {
     "duration": 15.76738,
     "end_time": "2024-04-29T18:37:55.735000",
     "exception": false,
     "start_time": "2024-04-29T18:37:39.967620",
     "status": "completed"
    },
    "tags": []
   },
   "outputs": [
    {
     "name": "stdout",
     "output_type": "stream",
     "text": [
      "Accuracy: 0.7735406277500734\n"
     ]
    }
   ],
   "source": [
    "# Defining the final pipeline with preprocessing and classification steps\n",
    "forest_pipeline = Pipeline(steps=[\n",
    "    ('preprocessor', preprocessor),  # Step 1: Preprocessing numerical and text features\n",
    "    ('forest_model', RandomForestClassifier(random_state=21))  # Step 2: Fitting a RandomForestClassifier model\n",
    "])\n",
    "\n",
    "# Fitting the pipeline on the training data\n",
    "forest_pipeline.fit(X_train, y_train)\n",
    "\n",
    "y_pred_forest = forest_pipeline.predict(X_validation)\n",
    "\n",
    "# Evaluating the model's performance\n",
    "accuracy = accuracy_score(y_validation, y_pred_forest)\n",
    "print(\"Accuracy:\", accuracy)"
   ]
  },
  {
   "cell_type": "markdown",
   "id": "e454f45c",
   "metadata": {
    "papermill": {
     "duration": 0.035227,
     "end_time": "2024-04-29T18:37:55.805812",
     "exception": false,
     "start_time": "2024-04-29T18:37:55.770585",
     "status": "completed"
    },
    "tags": []
   },
   "source": [
    "* Accuracy is better from the earlier models\n",
    "* explains more than 77.35% of all the predictions"
   ]
  },
  {
   "cell_type": "markdown",
   "id": "e3114a09",
   "metadata": {
    "papermill": {
     "duration": 0.035772,
     "end_time": "2024-04-29T18:37:55.877860",
     "exception": false,
     "start_time": "2024-04-29T18:37:55.842088",
     "status": "completed"
    },
    "tags": []
   },
   "source": [
    "### Fitting XGBClassifier"
   ]
  },
  {
   "cell_type": "code",
   "execution_count": 42,
   "id": "683ef197",
   "metadata": {
    "execution": {
     "iopub.execute_input": "2024-04-29T18:37:55.953122Z",
     "iopub.status.busy": "2024-04-29T18:37:55.952386Z",
     "iopub.status.idle": "2024-04-29T18:38:30.598099Z",
     "shell.execute_reply": "2024-04-29T18:38:30.596427Z"
    },
    "papermill": {
     "duration": 34.715689,
     "end_time": "2024-04-29T18:38:30.629606",
     "exception": false,
     "start_time": "2024-04-29T18:37:55.913917",
     "status": "completed"
    },
    "tags": []
   },
   "outputs": [
    {
     "name": "stdout",
     "output_type": "stream",
     "text": [
      "Accuracy: 0.7723672631270168\n"
     ]
    }
   ],
   "source": [
    "# Defining the final pipeline with preprocessing and classification steps\n",
    "XGB_pipeline = Pipeline(steps=[\n",
    "    ('preprocessor', preprocessor),  # Step 1: Preprocessing numerical and text features\n",
    "    ('XGB_model', XGBClassifier())  # Step 2: Fitting a XGBClassifier model\n",
    "])\n",
    "\n",
    "# Fitting the pipeline on the training data\n",
    "XGB_pipeline.fit(X_train, y_train)\n",
    "\n",
    "y_pred_xgb = XGB_pipeline.predict(X_validation)\n",
    "\n",
    "# Evaluating the model's performance\n",
    "accuracy = accuracy_score(y_validation, y_pred_xgb)\n",
    "print(\"Accuracy:\", accuracy)"
   ]
  },
  {
   "cell_type": "markdown",
   "id": "2d1916f3",
   "metadata": {
    "papermill": {
     "duration": 0.036612,
     "end_time": "2024-04-29T18:38:30.702334",
     "exception": false,
     "start_time": "2024-04-29T18:38:30.665722",
     "status": "completed"
    },
    "tags": []
   },
   "source": [
    "* Accuracy is almost simmilar to RandomForestClassifier but slightly less"
   ]
  },
  {
   "cell_type": "markdown",
   "id": "5dbd56c9",
   "metadata": {
    "papermill": {
     "duration": 0.037093,
     "end_time": "2024-04-29T18:38:30.777763",
     "exception": false,
     "start_time": "2024-04-29T18:38:30.740670",
     "status": "completed"
    },
    "tags": []
   },
   "source": [
    "## Comparing Performance of Best three model"
   ]
  },
  {
   "cell_type": "code",
   "execution_count": 43,
   "id": "255719c2",
   "metadata": {
    "execution": {
     "iopub.execute_input": "2024-04-29T18:38:30.855532Z",
     "iopub.status.busy": "2024-04-29T18:38:30.855025Z",
     "iopub.status.idle": "2024-04-29T18:38:30.865755Z",
     "shell.execute_reply": "2024-04-29T18:38:30.864158Z"
    },
    "papermill": {
     "duration": 0.053635,
     "end_time": "2024-04-29T18:38:30.868838",
     "exception": false,
     "start_time": "2024-04-29T18:38:30.815203",
     "status": "completed"
    },
    "tags": []
   },
   "outputs": [],
   "source": [
    "#function to plot confusion matrix\n",
    "def plot_confusion_matrix(data, labels=None):\n",
    "    \"\"\"Plot confusion matrix using heatmap.\n",
    " \n",
    "    Args:\n",
    "        data (list of list): List of lists with confusion matrix data.\n",
    "        labels (list): Labels which will be plotted across x and y axis.\n",
    " \n",
    "    \"\"\"\n",
    "    sns.set(color_codes=True)\n",
    "    plt.figure(1, figsize=(8, 4))\n",
    " \n",
    "    plt.title(\"Confusion Matrix\")\n",
    " \n",
    "    sns.set(font_scale=1.4)\n",
    "    ax = sns.heatmap(data, annot=True, cmap=\"YlGnBu\", cbar_kws={'label': 'Scale'},fmt=\"d\")\n",
    "    if labels:\n",
    "        ax.set_xticklabels(labels)\n",
    "        ax.set_yticklabels(labels)\n",
    "    plt.xticks(rotation = 90)\n",
    "    plt.yticks(rotation = 1)\n",
    "    ax.set(ylabel=\"True Label (User Collected Value)\", xlabel=\"Predicted Label\")\n",
    "    plt.show()"
   ]
  },
  {
   "cell_type": "markdown",
   "id": "28834023",
   "metadata": {
    "papermill": {
     "duration": 0.03617,
     "end_time": "2024-04-29T18:38:30.941003",
     "exception": false,
     "start_time": "2024-04-29T18:38:30.904833",
     "status": "completed"
    },
    "tags": []
   },
   "source": [
    "### comapring different models performance"
   ]
  },
  {
   "cell_type": "code",
   "execution_count": 44,
   "id": "5658a22a",
   "metadata": {
    "execution": {
     "iopub.execute_input": "2024-04-29T18:38:31.018005Z",
     "iopub.status.busy": "2024-04-29T18:38:31.017518Z",
     "iopub.status.idle": "2024-04-29T18:38:31.030116Z",
     "shell.execute_reply": "2024-04-29T18:38:31.028822Z"
    },
    "papermill": {
     "duration": 0.054907,
     "end_time": "2024-04-29T18:38:31.032635",
     "exception": false,
     "start_time": "2024-04-29T18:38:30.977728",
     "status": "completed"
    },
    "tags": []
   },
   "outputs": [],
   "source": [
    "def compare_models(models, X_test, y_test):\n",
    "    Models = []\n",
    "    Accuracy = []\n",
    "    Precision = []\n",
    "    Recall = []\n",
    "    F1_score = []\n",
    "\n",
    "    for model_name, model_pipeline in models.items():\n",
    "        # Making predictions\n",
    "        y_pred = model_pipeline.predict(X_test)\n",
    "\n",
    "        # Calculating evaluation metrics\n",
    "        accuracy = accuracy_score(y_test, y_pred)\n",
    "        precision = precision_score(y_test, y_pred, average='weighted')\n",
    "        recall = recall_score(y_test, y_pred, average='weighted')\n",
    "        f1 = f1_score(y_test, y_pred, average='weighted')\n",
    "\n",
    "\n",
    "        # Appending metrics to lists\n",
    "        Models.append(model_name)\n",
    "        Accuracy.append(accuracy)\n",
    "        Precision.append(precision)\n",
    "        Recall.append(recall)\n",
    "        F1_score.append(f1)\n",
    "\n",
    "        # Confusion matrix\n",
    "        conf_matrix = confusion_matrix(y_test, y_pred, labels=model_pipeline.classes_)\n",
    "        plot_confusion_matrix(conf_matrix)\n",
    "        \n",
    "        # Displaying confusion matrix\n",
    "        from sklearn.metrics import classification_report\n",
    "        print(f'\\n\\nClassification Matrix for {model_name}')\n",
    "        print(classification_report(y_test, y_pred))\n",
    "\n",
    "\n",
    "    # Creating a DataFrame to summarize model performance\n",
    "    df = pd.DataFrame({\n",
    "        'Models': Models,\n",
    "        'Accuracy': Accuracy,\n",
    "        'Precision': Precision,\n",
    "        'Recall': Recall,\n",
    "        'F1_score': F1_score,\n",
    "    }).sort_values(by='Accuracy', ascending=False).reset_index(drop=True)\n",
    "\n",
    "    return df\n"
   ]
  },
  {
   "cell_type": "code",
   "execution_count": 45,
   "id": "8281bc26",
   "metadata": {
    "execution": {
     "iopub.execute_input": "2024-04-29T18:38:31.107370Z",
     "iopub.status.busy": "2024-04-29T18:38:31.106416Z",
     "iopub.status.idle": "2024-04-29T18:38:33.284059Z",
     "shell.execute_reply": "2024-04-29T18:38:33.282555Z"
    },
    "papermill": {
     "duration": 2.218912,
     "end_time": "2024-04-29T18:38:33.287407",
     "exception": false,
     "start_time": "2024-04-29T18:38:31.068495",
     "status": "completed"
    },
    "tags": []
   },
   "outputs": [
    {
     "data": {
      "image/png": "[encoded data removed]",
      "text/plain": [
       "<Figure size 800x400 with 2 Axes>"
      ]
     },
     "metadata": {},
     "output_type": "display_data"
    },
    {
     "name": "stdout",
     "output_type": "stream",
     "text": [
      "\n",
      "\n",
      "Classification Matrix for Logistic_Model\n",
      "              precision    recall  f1-score   support\n",
      "\n",
      "           0       0.45      0.16      0.23       318\n",
      "           1       0.36      0.08      0.12        53\n",
      "           2       0.25      0.02      0.04        43\n",
      "           3       0.44      0.09      0.15        92\n",
      "           4       0.39      0.11      0.17       310\n",
      "           5       0.80      0.98      0.88      2593\n",
      "\n",
      "    accuracy                           0.77      3409\n",
      "   macro avg       0.45      0.24      0.27      3409\n",
      "weighted avg       0.70      0.77      0.71      3409\n",
      "\n"
     ]
    },
    {
     "data": {
      "image/png": "[encoded data removed]",
      "text/plain": [
       "<Figure size 800x400 with 2 Axes>"
      ]
     },
     "metadata": {},
     "output_type": "display_data"
    },
    {
     "name": "stdout",
     "output_type": "stream",
     "text": [
      "\n",
      "\n",
      "Classification Matrix for XGB_Model\n",
      "              precision    recall  f1-score   support\n",
      "\n",
      "           0       0.50      0.11      0.18       318\n",
      "           1       0.48      0.30      0.37        53\n",
      "           2       0.40      0.05      0.08        43\n",
      "           3       0.35      0.12      0.18        92\n",
      "           4       0.30      0.06      0.10       310\n",
      "           5       0.79      0.98      0.88      2593\n",
      "\n",
      "    accuracy                           0.77      3409\n",
      "   macro avg       0.47      0.27      0.30      3409\n",
      "weighted avg       0.70      0.77      0.71      3409\n",
      "\n"
     ]
    },
    {
     "data": {
      "image/png": "[encoded data removed]",
      "text/plain": [
       "<Figure size 800x400 with 2 Axes>"
      ]
     },
     "metadata": {},
     "output_type": "display_data"
    },
    {
     "name": "stdout",
     "output_type": "stream",
     "text": [
      "\n",
      "\n",
      "Classification Matrix for Rndom_forest_Model \n",
      "              precision    recall  f1-score   support\n",
      "\n",
      "           0       0.71      0.11      0.19       318\n",
      "           1       0.25      0.02      0.04        53\n",
      "           2       0.67      0.05      0.09        43\n",
      "           3       0.50      0.04      0.08        92\n",
      "           4       0.83      0.03      0.06       310\n",
      "           5       0.78      1.00      0.87      2593\n",
      "\n",
      "    accuracy                           0.77      3409\n",
      "   macro avg       0.62      0.21      0.22      3409\n",
      "weighted avg       0.76      0.77      0.69      3409\n",
      "\n"
     ]
    },
    {
     "data": {
      "text/html": [
       "<div>\n",
       "<style scoped>\n",
       "    .dataframe tbody tr th:only-of-type {\n",
       "        vertical-align: middle;\n",
       "    }\n",
       "\n",
       "    .dataframe tbody tr th {\n",
       "        vertical-align: top;\n",
       "    }\n",
       "\n",
       "    .dataframe thead th {\n",
       "        text-align: right;\n",
       "    }\n",
       "</style>\n",
       "<table border=\"1\" class=\"dataframe\">\n",
       "  <thead>\n",
       "    <tr style=\"text-align: right;\">\n",
       "      <th></th>\n",
       "      <th>Models</th>\n",
       "      <th>Accuracy</th>\n",
       "      <th>Precision</th>\n",
       "      <th>Recall</th>\n",
       "      <th>F1_score</th>\n",
       "    </tr>\n",
       "  </thead>\n",
       "  <tbody>\n",
       "    <tr>\n",
       "      <th>0</th>\n",
       "      <td>Rndom_forest_Model</td>\n",
       "      <td>0.773541</td>\n",
       "      <td>0.758130</td>\n",
       "      <td>0.773541</td>\n",
       "      <td>0.690839</td>\n",
       "    </tr>\n",
       "    <tr>\n",
       "      <th>1</th>\n",
       "      <td>Logistic_Model</td>\n",
       "      <td>0.772367</td>\n",
       "      <td>0.704957</td>\n",
       "      <td>0.772367</td>\n",
       "      <td>0.711879</td>\n",
       "    </tr>\n",
       "    <tr>\n",
       "      <th>2</th>\n",
       "      <td>XGB_Model</td>\n",
       "      <td>0.772367</td>\n",
       "      <td>0.700700</td>\n",
       "      <td>0.772367</td>\n",
       "      <td>0.706450</td>\n",
       "    </tr>\n",
       "  </tbody>\n",
       "</table>\n",
       "</div>"
      ],
      "text/plain": [
       "                Models  Accuracy  Precision    Recall  F1_score\n",
       "0  Rndom_forest_Model   0.773541   0.758130  0.773541  0.690839\n",
       "1       Logistic_Model  0.772367   0.704957  0.772367  0.711879\n",
       "2            XGB_Model  0.772367   0.700700  0.772367  0.706450"
      ]
     },
     "execution_count": 45,
     "metadata": {},
     "output_type": "execute_result"
    }
   ],
   "source": [
    "best_models = {'Logistic_Model': logistic_pipeline, 'XGB_Model': XGB_pipeline, 'Rndom_forest_Model ': forest_pipeline}\n",
    "compare_models(best_models, X_validation, y_validation)"
   ]
  },
  {
   "cell_type": "markdown",
   "id": "5837a123",
   "metadata": {
    "papermill": {
     "duration": 0.039521,
     "end_time": "2024-04-29T18:38:33.366930",
     "exception": false,
     "start_time": "2024-04-29T18:38:33.327409",
     "status": "completed"
    },
    "tags": []
   },
   "source": [
    "* Best model out of top three models is Random Forest model according to accuracy score But\n",
    "    * If we consider precision and Recall we know that our model is biased towards the 5th Rating that is why the score is good on 5 rating as compared to other rating \n",
    "* there is a tie between Logistic and XGB model according accuracy score but average precision and recall are more balanced in XGB model as compared to all three"
   ]
  },
  {
   "cell_type": "markdown",
   "id": "9e66b7bc",
   "metadata": {
    "papermill": {
     "duration": 0.039208,
     "end_time": "2024-04-29T18:38:33.446017",
     "exception": false,
     "start_time": "2024-04-29T18:38:33.406809",
     "status": "completed"
    },
    "tags": []
   },
   "source": [
    "## Using dimensionality reduction Tecnique for XGBoost model"
   ]
  },
  {
   "cell_type": "code",
   "execution_count": 46,
   "id": "672b653f",
   "metadata": {
    "execution": {
     "iopub.execute_input": "2024-04-29T18:38:33.527594Z",
     "iopub.status.busy": "2024-04-29T18:38:33.527131Z",
     "iopub.status.idle": "2024-04-29T18:40:17.371803Z",
     "shell.execute_reply": "2024-04-29T18:40:17.370459Z"
    },
    "papermill": {
     "duration": 103.923725,
     "end_time": "2024-04-29T18:40:17.409590",
     "exception": false,
     "start_time": "2024-04-29T18:38:33.485865",
     "status": "completed"
    },
    "tags": []
   },
   "outputs": [
    {
     "name": "stdout",
     "output_type": "stream",
     "text": [
      "Accuracy: 0.7753006746846582\n"
     ]
    }
   ],
   "source": [
    "# Defining the TruncatedSVD transformer\n",
    "svd = TruncatedSVD(n_components=700, random_state=42)  # Specifing the number of components which explains 95% of variance\n",
    "\n",
    "# Defining the final pipeline with preprocessing, TruncatedSVD, and classification steps\n",
    "XGB_pipeline_with_SVD = Pipeline(steps=[\n",
    "    ('preprocessor', preprocessor),  # Step 1: Preprocessing numerical and text features\n",
    "    ('svd', svd),  # Step 2: TruncatedSVD transformation\n",
    "    ('XGB_model', XGBClassifier(random_state=21))  # Step 3: Fitting a XGBClassifier model\n",
    "])\n",
    "\n",
    "# Fitting the pipeline on the training data\n",
    "XGB_pipeline_with_SVD.fit(X_train, y_train)\n",
    "\n",
    "# Making predictions on the validation set\n",
    "y_pred_xgb = XGB_pipeline_with_SVD.predict(X_validation)\n",
    "\n",
    "# Evaluating the model's performance\n",
    "accuracy = accuracy_score(y_validation, y_pred_xgb)\n",
    "print(\"Accuracy:\", accuracy)"
   ]
  },
  {
   "cell_type": "markdown",
   "id": "1c3c96eb",
   "metadata": {
    "papermill": {
     "duration": 0.039816,
     "end_time": "2024-04-29T18:40:17.489852",
     "exception": false,
     "start_time": "2024-04-29T18:40:17.450036",
     "status": "completed"
    },
    "tags": []
   },
   "source": [
    "After selecting the features which explain 95% of variance Accuracy is increased"
   ]
  },
  {
   "cell_type": "code",
   "execution_count": 47,
   "id": "8dfdf2ac",
   "metadata": {
    "execution": {
     "iopub.execute_input": "2024-04-29T18:40:17.573205Z",
     "iopub.status.busy": "2024-04-29T18:40:17.572720Z",
     "iopub.status.idle": "2024-04-29T18:40:17.592980Z",
     "shell.execute_reply": "2024-04-29T18:40:17.591678Z"
    },
    "papermill": {
     "duration": 0.065765,
     "end_time": "2024-04-29T18:40:17.595927",
     "exception": false,
     "start_time": "2024-04-29T18:40:17.530162",
     "status": "completed"
    },
    "tags": []
   },
   "outputs": [
    {
     "name": "stdout",
     "output_type": "stream",
     "text": [
      "              precision    recall  f1-score   support\n",
      "\n",
      "           0       0.59      0.12      0.20       318\n",
      "           1       0.50      0.09      0.16        53\n",
      "           2       0.67      0.05      0.09        43\n",
      "           3       0.75      0.03      0.06        92\n",
      "           4       0.54      0.07      0.13       310\n",
      "           5       0.78      0.99      0.88      2593\n",
      "\n",
      "    accuracy                           0.78      3409\n",
      "   macro avg       0.64      0.23      0.25      3409\n",
      "weighted avg       0.74      0.78      0.70      3409\n",
      "\n"
     ]
    }
   ],
   "source": [
    "eval = classification_report(y_validation,y_pred_xgb)\n",
    "print(eval)"
   ]
  },
  {
   "cell_type": "markdown",
   "id": "2f609947",
   "metadata": {
    "papermill": {
     "duration": 0.039845,
     "end_time": "2024-04-29T18:40:17.676570",
     "exception": false,
     "start_time": "2024-04-29T18:40:17.636725",
     "status": "completed"
    },
    "tags": []
   },
   "source": [
    "### making predictions on test data through XGB model pipeline with SVD"
   ]
  },
  {
   "cell_type": "code",
   "execution_count": 48,
   "id": "5ebdc3e9",
   "metadata": {
    "execution": {
     "iopub.execute_input": "2024-04-29T18:40:17.761251Z",
     "iopub.status.busy": "2024-04-29T18:40:17.760815Z",
     "iopub.status.idle": "2024-04-29T18:40:17.765522Z",
     "shell.execute_reply": "2024-04-29T18:40:17.764375Z"
    },
    "papermill": {
     "duration": 0.04953,
     "end_time": "2024-04-29T18:40:17.767887",
     "exception": false,
     "start_time": "2024-04-29T18:40:17.718357",
     "status": "completed"
    },
    "tags": []
   },
   "outputs": [],
   "source": [
    "# # predictions on test data through XGBoost pipeline\n",
    "# y_pred_submission = XGB_pipeline_with_SVD.predict(X_test)"
   ]
  },
  {
   "cell_type": "code",
   "execution_count": 49,
   "id": "0ad612fd",
   "metadata": {
    "execution": {
     "iopub.execute_input": "2024-04-29T18:40:17.852561Z",
     "iopub.status.busy": "2024-04-29T18:40:17.851429Z",
     "iopub.status.idle": "2024-04-29T18:40:17.856902Z",
     "shell.execute_reply": "2024-04-29T18:40:17.855692Z"
    },
    "papermill": {
     "duration": 0.050668,
     "end_time": "2024-04-29T18:40:17.859560",
     "exception": false,
     "start_time": "2024-04-29T18:40:17.808892",
     "status": "completed"
    },
    "tags": []
   },
   "outputs": [],
   "source": [
    "# # creating submission file\n",
    "# submission = pd.DataFrame({\"ID\": range(1,4547), \n",
    "#                            \"total_amount\": y_pred_submission}) \n",
    "\n",
    "# submission.to_csv('submission.csv',index=False)"
   ]
  },
  {
   "cell_type": "markdown",
   "id": "79c41749",
   "metadata": {
    "papermill": {
     "duration": 0.039833,
     "end_time": "2024-04-29T18:40:17.939478",
     "exception": false,
     "start_time": "2024-04-29T18:40:17.899645",
     "status": "completed"
    },
    "tags": []
   },
   "source": [
    "Accuracy was pretty good on validation set still accuracy was less on test set"
   ]
  },
  {
   "cell_type": "markdown",
   "id": "c3613c68",
   "metadata": {
    "papermill": {
     "duration": 0.039559,
     "end_time": "2024-04-29T18:40:18.019070",
     "exception": false,
     "start_time": "2024-04-29T18:40:17.979511",
     "status": "completed"
    },
    "tags": []
   },
   "source": [
    "### Making predictions on test data through XGB pipeline"
   ]
  },
  {
   "cell_type": "code",
   "execution_count": 50,
   "id": "f70d09dd",
   "metadata": {
    "execution": {
     "iopub.execute_input": "2024-04-29T18:40:18.102227Z",
     "iopub.status.busy": "2024-04-29T18:40:18.101333Z",
     "iopub.status.idle": "2024-04-29T18:40:18.326815Z",
     "shell.execute_reply": "2024-04-29T18:40:18.325703Z"
    },
    "papermill": {
     "duration": 0.270557,
     "end_time": "2024-04-29T18:40:18.329898",
     "exception": false,
     "start_time": "2024-04-29T18:40:18.059341",
     "status": "completed"
    },
    "tags": []
   },
   "outputs": [],
   "source": [
    "# predictions on test data through XGBoost pipeline\n",
    "y_pred_submission = XGB_pipeline.predict(X_test)"
   ]
  },
  {
   "cell_type": "code",
   "execution_count": 51,
   "id": "c2bf64c8",
   "metadata": {
    "execution": {
     "iopub.execute_input": "2024-04-29T18:40:18.413633Z",
     "iopub.status.busy": "2024-04-29T18:40:18.412973Z",
     "iopub.status.idle": "2024-04-29T18:40:18.431261Z",
     "shell.execute_reply": "2024-04-29T18:40:18.429795Z"
    },
    "papermill": {
     "duration": 0.063068,
     "end_time": "2024-04-29T18:40:18.434315",
     "exception": false,
     "start_time": "2024-04-29T18:40:18.371247",
     "status": "completed"
    },
    "tags": []
   },
   "outputs": [],
   "source": [
    "# creating submission file\n",
    "submission = pd.DataFrame({\"ID\": range(1,4547), \n",
    "                           \"total_amount\": y_pred_submission}) \n",
    "\n",
    "submission.to_csv('submission.csv',index=False)"
   ]
  },
  {
   "cell_type": "code",
   "execution_count": null,
   "id": "316bf31f",
   "metadata": {
    "papermill": {
     "duration": 0.039782,
     "end_time": "2024-04-29T18:40:18.515709",
     "exception": false,
     "start_time": "2024-04-29T18:40:18.475927",
     "status": "completed"
    },
    "tags": []
   },
   "outputs": [],
   "source": []
  }
 ],
 "metadata": {
  "kaggle": {
   "accelerator": "none",
   "dataSources": [
    {
     "databundleVersionId": 7452256,
     "sourceId": 67079,
     "sourceType": "competition"
    }
   ],
   "dockerImageVersionId": 30646,
   "isGpuEnabled": false,
   "isInternetEnabled": false,
   "language": "python",
   "sourceType": "notebook"
  },
  "kernelspec": {
   "display_name": "Python 3",
   "language": "python",
   "name": "python3"
  },
  "language_info": {
   "codemirror_mode": {
    "name": "ipython",
    "version": 3
   },
   "file_extension": ".py",
   "mimetype": "text/x-python",
   "name": "python",
   "nbconvert_exporter": "python",
   "pygments_lexer": "ipython3",
   "version": "3.10.13"
  },
  "papermill": {
   "default_parameters": {},
   "duration": 583.407613,
   "end_time": "2024-04-29T18:40:21.182386",
   "environment_variables": {},
   "exception": null,
   "input_path": "__notebook__.ipynb",
   "output_path": "__notebook__.ipynb",
   "parameters": {},
   "start_time": "2024-04-29T18:30:37.774773",
   "version": "2.5.0"
  }
 },
 "nbformat": 4,
 "nbformat_minor": 5
}
